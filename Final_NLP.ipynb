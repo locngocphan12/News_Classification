{
  "nbformat": 4,
  "nbformat_minor": 0,
  "metadata": {
    "colab": {
      "provenance": [],
      "gpuType": "T4",
      "toc_visible": true
    },
    "kernelspec": {
      "name": "python3",
      "display_name": "Python 3"
    },
    "language_info": {
      "name": "python"
    },
    "accelerator": "GPU",
    "widgets": {
      "application/vnd.jupyter.widget-state+json": {
        "0729d46ecfad42e2977fedb8eddd7044": {
          "model_module": "@jupyter-widgets/controls",
          "model_name": "HBoxModel",
          "model_module_version": "1.5.0",
          "state": {
            "_dom_classes": [],
            "_model_module": "@jupyter-widgets/controls",
            "_model_module_version": "1.5.0",
            "_model_name": "HBoxModel",
            "_view_count": null,
            "_view_module": "@jupyter-widgets/controls",
            "_view_module_version": "1.5.0",
            "_view_name": "HBoxView",
            "box_style": "",
            "children": [
              "IPY_MODEL_235b2cebf81c45c79a22c3f60e38f6e1",
              "IPY_MODEL_8804cc986e964ebc8d67ac5f9dbf3751",
              "IPY_MODEL_78643facc0304a38ac77ee89e6c7ef78"
            ],
            "layout": "IPY_MODEL_f8bc35753df343b19843ea9ecbd580a0"
          }
        },
        "235b2cebf81c45c79a22c3f60e38f6e1": {
          "model_module": "@jupyter-widgets/controls",
          "model_name": "HTMLModel",
          "model_module_version": "1.5.0",
          "state": {
            "_dom_classes": [],
            "_model_module": "@jupyter-widgets/controls",
            "_model_module_version": "1.5.0",
            "_model_name": "HTMLModel",
            "_view_count": null,
            "_view_module": "@jupyter-widgets/controls",
            "_view_module_version": "1.5.0",
            "_view_name": "HTMLView",
            "description": "",
            "description_tooltip": null,
            "layout": "IPY_MODEL_449fa2df4bc9470ca28627a5f5950cea",
            "placeholder": "​",
            "style": "IPY_MODEL_49569e4f8cb143e58aed8c6909275e1f",
            "value": "config.json: 100%"
          }
        },
        "8804cc986e964ebc8d67ac5f9dbf3751": {
          "model_module": "@jupyter-widgets/controls",
          "model_name": "FloatProgressModel",
          "model_module_version": "1.5.0",
          "state": {
            "_dom_classes": [],
            "_model_module": "@jupyter-widgets/controls",
            "_model_module_version": "1.5.0",
            "_model_name": "FloatProgressModel",
            "_view_count": null,
            "_view_module": "@jupyter-widgets/controls",
            "_view_module_version": "1.5.0",
            "_view_name": "ProgressView",
            "bar_style": "success",
            "description": "",
            "description_tooltip": null,
            "layout": "IPY_MODEL_a50a5efb3e9a4ebcafa183e455d5acc2",
            "max": 678,
            "min": 0,
            "orientation": "horizontal",
            "style": "IPY_MODEL_53a1110a3f3c48569d31d76601b3bb7a",
            "value": 678
          }
        },
        "78643facc0304a38ac77ee89e6c7ef78": {
          "model_module": "@jupyter-widgets/controls",
          "model_name": "HTMLModel",
          "model_module_version": "1.5.0",
          "state": {
            "_dom_classes": [],
            "_model_module": "@jupyter-widgets/controls",
            "_model_module_version": "1.5.0",
            "_model_name": "HTMLModel",
            "_view_count": null,
            "_view_module": "@jupyter-widgets/controls",
            "_view_module_version": "1.5.0",
            "_view_name": "HTMLView",
            "description": "",
            "description_tooltip": null,
            "layout": "IPY_MODEL_52c074c6dfeb4a919705424f861e5b9d",
            "placeholder": "​",
            "style": "IPY_MODEL_2b8adbe25c674441b3e13f6ad97db205",
            "value": " 678/678 [00:00&lt;00:00, 12.9kB/s]"
          }
        },
        "f8bc35753df343b19843ea9ecbd580a0": {
          "model_module": "@jupyter-widgets/base",
          "model_name": "LayoutModel",
          "model_module_version": "1.2.0",
          "state": {
            "_model_module": "@jupyter-widgets/base",
            "_model_module_version": "1.2.0",
            "_model_name": "LayoutModel",
            "_view_count": null,
            "_view_module": "@jupyter-widgets/base",
            "_view_module_version": "1.2.0",
            "_view_name": "LayoutView",
            "align_content": null,
            "align_items": null,
            "align_self": null,
            "border": null,
            "bottom": null,
            "display": null,
            "flex": null,
            "flex_flow": null,
            "grid_area": null,
            "grid_auto_columns": null,
            "grid_auto_flow": null,
            "grid_auto_rows": null,
            "grid_column": null,
            "grid_gap": null,
            "grid_row": null,
            "grid_template_areas": null,
            "grid_template_columns": null,
            "grid_template_rows": null,
            "height": null,
            "justify_content": null,
            "justify_items": null,
            "left": null,
            "margin": null,
            "max_height": null,
            "max_width": null,
            "min_height": null,
            "min_width": null,
            "object_fit": null,
            "object_position": null,
            "order": null,
            "overflow": null,
            "overflow_x": null,
            "overflow_y": null,
            "padding": null,
            "right": null,
            "top": null,
            "visibility": null,
            "width": null
          }
        },
        "449fa2df4bc9470ca28627a5f5950cea": {
          "model_module": "@jupyter-widgets/base",
          "model_name": "LayoutModel",
          "model_module_version": "1.2.0",
          "state": {
            "_model_module": "@jupyter-widgets/base",
            "_model_module_version": "1.2.0",
            "_model_name": "LayoutModel",
            "_view_count": null,
            "_view_module": "@jupyter-widgets/base",
            "_view_module_version": "1.2.0",
            "_view_name": "LayoutView",
            "align_content": null,
            "align_items": null,
            "align_self": null,
            "border": null,
            "bottom": null,
            "display": null,
            "flex": null,
            "flex_flow": null,
            "grid_area": null,
            "grid_auto_columns": null,
            "grid_auto_flow": null,
            "grid_auto_rows": null,
            "grid_column": null,
            "grid_gap": null,
            "grid_row": null,
            "grid_template_areas": null,
            "grid_template_columns": null,
            "grid_template_rows": null,
            "height": null,
            "justify_content": null,
            "justify_items": null,
            "left": null,
            "margin": null,
            "max_height": null,
            "max_width": null,
            "min_height": null,
            "min_width": null,
            "object_fit": null,
            "object_position": null,
            "order": null,
            "overflow": null,
            "overflow_x": null,
            "overflow_y": null,
            "padding": null,
            "right": null,
            "top": null,
            "visibility": null,
            "width": null
          }
        },
        "49569e4f8cb143e58aed8c6909275e1f": {
          "model_module": "@jupyter-widgets/controls",
          "model_name": "DescriptionStyleModel",
          "model_module_version": "1.5.0",
          "state": {
            "_model_module": "@jupyter-widgets/controls",
            "_model_module_version": "1.5.0",
            "_model_name": "DescriptionStyleModel",
            "_view_count": null,
            "_view_module": "@jupyter-widgets/base",
            "_view_module_version": "1.2.0",
            "_view_name": "StyleView",
            "description_width": ""
          }
        },
        "a50a5efb3e9a4ebcafa183e455d5acc2": {
          "model_module": "@jupyter-widgets/base",
          "model_name": "LayoutModel",
          "model_module_version": "1.2.0",
          "state": {
            "_model_module": "@jupyter-widgets/base",
            "_model_module_version": "1.2.0",
            "_model_name": "LayoutModel",
            "_view_count": null,
            "_view_module": "@jupyter-widgets/base",
            "_view_module_version": "1.2.0",
            "_view_name": "LayoutView",
            "align_content": null,
            "align_items": null,
            "align_self": null,
            "border": null,
            "bottom": null,
            "display": null,
            "flex": null,
            "flex_flow": null,
            "grid_area": null,
            "grid_auto_columns": null,
            "grid_auto_flow": null,
            "grid_auto_rows": null,
            "grid_column": null,
            "grid_gap": null,
            "grid_row": null,
            "grid_template_areas": null,
            "grid_template_columns": null,
            "grid_template_rows": null,
            "height": null,
            "justify_content": null,
            "justify_items": null,
            "left": null,
            "margin": null,
            "max_height": null,
            "max_width": null,
            "min_height": null,
            "min_width": null,
            "object_fit": null,
            "object_position": null,
            "order": null,
            "overflow": null,
            "overflow_x": null,
            "overflow_y": null,
            "padding": null,
            "right": null,
            "top": null,
            "visibility": null,
            "width": null
          }
        },
        "53a1110a3f3c48569d31d76601b3bb7a": {
          "model_module": "@jupyter-widgets/controls",
          "model_name": "ProgressStyleModel",
          "model_module_version": "1.5.0",
          "state": {
            "_model_module": "@jupyter-widgets/controls",
            "_model_module_version": "1.5.0",
            "_model_name": "ProgressStyleModel",
            "_view_count": null,
            "_view_module": "@jupyter-widgets/base",
            "_view_module_version": "1.2.0",
            "_view_name": "StyleView",
            "bar_color": null,
            "description_width": ""
          }
        },
        "52c074c6dfeb4a919705424f861e5b9d": {
          "model_module": "@jupyter-widgets/base",
          "model_name": "LayoutModel",
          "model_module_version": "1.2.0",
          "state": {
            "_model_module": "@jupyter-widgets/base",
            "_model_module_version": "1.2.0",
            "_model_name": "LayoutModel",
            "_view_count": null,
            "_view_module": "@jupyter-widgets/base",
            "_view_module_version": "1.2.0",
            "_view_name": "LayoutView",
            "align_content": null,
            "align_items": null,
            "align_self": null,
            "border": null,
            "bottom": null,
            "display": null,
            "flex": null,
            "flex_flow": null,
            "grid_area": null,
            "grid_auto_columns": null,
            "grid_auto_flow": null,
            "grid_auto_rows": null,
            "grid_column": null,
            "grid_gap": null,
            "grid_row": null,
            "grid_template_areas": null,
            "grid_template_columns": null,
            "grid_template_rows": null,
            "height": null,
            "justify_content": null,
            "justify_items": null,
            "left": null,
            "margin": null,
            "max_height": null,
            "max_width": null,
            "min_height": null,
            "min_width": null,
            "object_fit": null,
            "object_position": null,
            "order": null,
            "overflow": null,
            "overflow_x": null,
            "overflow_y": null,
            "padding": null,
            "right": null,
            "top": null,
            "visibility": null,
            "width": null
          }
        },
        "2b8adbe25c674441b3e13f6ad97db205": {
          "model_module": "@jupyter-widgets/controls",
          "model_name": "DescriptionStyleModel",
          "model_module_version": "1.5.0",
          "state": {
            "_model_module": "@jupyter-widgets/controls",
            "_model_module_version": "1.5.0",
            "_model_name": "DescriptionStyleModel",
            "_view_count": null,
            "_view_module": "@jupyter-widgets/base",
            "_view_module_version": "1.2.0",
            "_view_name": "StyleView",
            "description_width": ""
          }
        },
        "1a94eef40fd847dbb5ade236f6a1aabe": {
          "model_module": "@jupyter-widgets/controls",
          "model_name": "HBoxModel",
          "model_module_version": "1.5.0",
          "state": {
            "_dom_classes": [],
            "_model_module": "@jupyter-widgets/controls",
            "_model_module_version": "1.5.0",
            "_model_name": "HBoxModel",
            "_view_count": null,
            "_view_module": "@jupyter-widgets/controls",
            "_view_module_version": "1.5.0",
            "_view_name": "HBoxView",
            "box_style": "",
            "children": [
              "IPY_MODEL_e9a2a117528f45f5887994216be9de57",
              "IPY_MODEL_d276bd2ed43440be8d1f78c7926dcf1a",
              "IPY_MODEL_f9a69d041f464cc589289462e2371a0a"
            ],
            "layout": "IPY_MODEL_b4453bbdc4154bdab3ede2f983c0b7fc"
          }
        },
        "e9a2a117528f45f5887994216be9de57": {
          "model_module": "@jupyter-widgets/controls",
          "model_name": "HTMLModel",
          "model_module_version": "1.5.0",
          "state": {
            "_dom_classes": [],
            "_model_module": "@jupyter-widgets/controls",
            "_model_module_version": "1.5.0",
            "_model_name": "HTMLModel",
            "_view_count": null,
            "_view_module": "@jupyter-widgets/controls",
            "_view_module_version": "1.5.0",
            "_view_name": "HTMLView",
            "description": "",
            "description_tooltip": null,
            "layout": "IPY_MODEL_6fb352d2bb804bf6ba11a87456b9f672",
            "placeholder": "​",
            "style": "IPY_MODEL_05a02fb026934cf98264974d74648fb5",
            "value": "vocab.txt: 100%"
          }
        },
        "d276bd2ed43440be8d1f78c7926dcf1a": {
          "model_module": "@jupyter-widgets/controls",
          "model_name": "FloatProgressModel",
          "model_module_version": "1.5.0",
          "state": {
            "_dom_classes": [],
            "_model_module": "@jupyter-widgets/controls",
            "_model_module_version": "1.5.0",
            "_model_name": "FloatProgressModel",
            "_view_count": null,
            "_view_module": "@jupyter-widgets/controls",
            "_view_module_version": "1.5.0",
            "_view_name": "ProgressView",
            "bar_style": "success",
            "description": "",
            "description_tooltip": null,
            "layout": "IPY_MODEL_fc6acf3962a44be98351e0462c9bbad1",
            "max": 895321,
            "min": 0,
            "orientation": "horizontal",
            "style": "IPY_MODEL_7e04728298014486b8142c7634bcc806",
            "value": 895321
          }
        },
        "f9a69d041f464cc589289462e2371a0a": {
          "model_module": "@jupyter-widgets/controls",
          "model_name": "HTMLModel",
          "model_module_version": "1.5.0",
          "state": {
            "_dom_classes": [],
            "_model_module": "@jupyter-widgets/controls",
            "_model_module_version": "1.5.0",
            "_model_name": "HTMLModel",
            "_view_count": null,
            "_view_module": "@jupyter-widgets/controls",
            "_view_module_version": "1.5.0",
            "_view_name": "HTMLView",
            "description": "",
            "description_tooltip": null,
            "layout": "IPY_MODEL_96200f59f7654d2a9616cf4c9f931807",
            "placeholder": "​",
            "style": "IPY_MODEL_eb35b5f024704b2e9f764a58803ea4af",
            "value": " 895k/895k [00:00&lt;00:00, 16.2MB/s]"
          }
        },
        "b4453bbdc4154bdab3ede2f983c0b7fc": {
          "model_module": "@jupyter-widgets/base",
          "model_name": "LayoutModel",
          "model_module_version": "1.2.0",
          "state": {
            "_model_module": "@jupyter-widgets/base",
            "_model_module_version": "1.2.0",
            "_model_name": "LayoutModel",
            "_view_count": null,
            "_view_module": "@jupyter-widgets/base",
            "_view_module_version": "1.2.0",
            "_view_name": "LayoutView",
            "align_content": null,
            "align_items": null,
            "align_self": null,
            "border": null,
            "bottom": null,
            "display": null,
            "flex": null,
            "flex_flow": null,
            "grid_area": null,
            "grid_auto_columns": null,
            "grid_auto_flow": null,
            "grid_auto_rows": null,
            "grid_column": null,
            "grid_gap": null,
            "grid_row": null,
            "grid_template_areas": null,
            "grid_template_columns": null,
            "grid_template_rows": null,
            "height": null,
            "justify_content": null,
            "justify_items": null,
            "left": null,
            "margin": null,
            "max_height": null,
            "max_width": null,
            "min_height": null,
            "min_width": null,
            "object_fit": null,
            "object_position": null,
            "order": null,
            "overflow": null,
            "overflow_x": null,
            "overflow_y": null,
            "padding": null,
            "right": null,
            "top": null,
            "visibility": null,
            "width": null
          }
        },
        "6fb352d2bb804bf6ba11a87456b9f672": {
          "model_module": "@jupyter-widgets/base",
          "model_name": "LayoutModel",
          "model_module_version": "1.2.0",
          "state": {
            "_model_module": "@jupyter-widgets/base",
            "_model_module_version": "1.2.0",
            "_model_name": "LayoutModel",
            "_view_count": null,
            "_view_module": "@jupyter-widgets/base",
            "_view_module_version": "1.2.0",
            "_view_name": "LayoutView",
            "align_content": null,
            "align_items": null,
            "align_self": null,
            "border": null,
            "bottom": null,
            "display": null,
            "flex": null,
            "flex_flow": null,
            "grid_area": null,
            "grid_auto_columns": null,
            "grid_auto_flow": null,
            "grid_auto_rows": null,
            "grid_column": null,
            "grid_gap": null,
            "grid_row": null,
            "grid_template_areas": null,
            "grid_template_columns": null,
            "grid_template_rows": null,
            "height": null,
            "justify_content": null,
            "justify_items": null,
            "left": null,
            "margin": null,
            "max_height": null,
            "max_width": null,
            "min_height": null,
            "min_width": null,
            "object_fit": null,
            "object_position": null,
            "order": null,
            "overflow": null,
            "overflow_x": null,
            "overflow_y": null,
            "padding": null,
            "right": null,
            "top": null,
            "visibility": null,
            "width": null
          }
        },
        "05a02fb026934cf98264974d74648fb5": {
          "model_module": "@jupyter-widgets/controls",
          "model_name": "DescriptionStyleModel",
          "model_module_version": "1.5.0",
          "state": {
            "_model_module": "@jupyter-widgets/controls",
            "_model_module_version": "1.5.0",
            "_model_name": "DescriptionStyleModel",
            "_view_count": null,
            "_view_module": "@jupyter-widgets/base",
            "_view_module_version": "1.2.0",
            "_view_name": "StyleView",
            "description_width": ""
          }
        },
        "fc6acf3962a44be98351e0462c9bbad1": {
          "model_module": "@jupyter-widgets/base",
          "model_name": "LayoutModel",
          "model_module_version": "1.2.0",
          "state": {
            "_model_module": "@jupyter-widgets/base",
            "_model_module_version": "1.2.0",
            "_model_name": "LayoutModel",
            "_view_count": null,
            "_view_module": "@jupyter-widgets/base",
            "_view_module_version": "1.2.0",
            "_view_name": "LayoutView",
            "align_content": null,
            "align_items": null,
            "align_self": null,
            "border": null,
            "bottom": null,
            "display": null,
            "flex": null,
            "flex_flow": null,
            "grid_area": null,
            "grid_auto_columns": null,
            "grid_auto_flow": null,
            "grid_auto_rows": null,
            "grid_column": null,
            "grid_gap": null,
            "grid_row": null,
            "grid_template_areas": null,
            "grid_template_columns": null,
            "grid_template_rows": null,
            "height": null,
            "justify_content": null,
            "justify_items": null,
            "left": null,
            "margin": null,
            "max_height": null,
            "max_width": null,
            "min_height": null,
            "min_width": null,
            "object_fit": null,
            "object_position": null,
            "order": null,
            "overflow": null,
            "overflow_x": null,
            "overflow_y": null,
            "padding": null,
            "right": null,
            "top": null,
            "visibility": null,
            "width": null
          }
        },
        "7e04728298014486b8142c7634bcc806": {
          "model_module": "@jupyter-widgets/controls",
          "model_name": "ProgressStyleModel",
          "model_module_version": "1.5.0",
          "state": {
            "_model_module": "@jupyter-widgets/controls",
            "_model_module_version": "1.5.0",
            "_model_name": "ProgressStyleModel",
            "_view_count": null,
            "_view_module": "@jupyter-widgets/base",
            "_view_module_version": "1.2.0",
            "_view_name": "StyleView",
            "bar_color": null,
            "description_width": ""
          }
        },
        "96200f59f7654d2a9616cf4c9f931807": {
          "model_module": "@jupyter-widgets/base",
          "model_name": "LayoutModel",
          "model_module_version": "1.2.0",
          "state": {
            "_model_module": "@jupyter-widgets/base",
            "_model_module_version": "1.2.0",
            "_model_name": "LayoutModel",
            "_view_count": null,
            "_view_module": "@jupyter-widgets/base",
            "_view_module_version": "1.2.0",
            "_view_name": "LayoutView",
            "align_content": null,
            "align_items": null,
            "align_self": null,
            "border": null,
            "bottom": null,
            "display": null,
            "flex": null,
            "flex_flow": null,
            "grid_area": null,
            "grid_auto_columns": null,
            "grid_auto_flow": null,
            "grid_auto_rows": null,
            "grid_column": null,
            "grid_gap": null,
            "grid_row": null,
            "grid_template_areas": null,
            "grid_template_columns": null,
            "grid_template_rows": null,
            "height": null,
            "justify_content": null,
            "justify_items": null,
            "left": null,
            "margin": null,
            "max_height": null,
            "max_width": null,
            "min_height": null,
            "min_width": null,
            "object_fit": null,
            "object_position": null,
            "order": null,
            "overflow": null,
            "overflow_x": null,
            "overflow_y": null,
            "padding": null,
            "right": null,
            "top": null,
            "visibility": null,
            "width": null
          }
        },
        "eb35b5f024704b2e9f764a58803ea4af": {
          "model_module": "@jupyter-widgets/controls",
          "model_name": "DescriptionStyleModel",
          "model_module_version": "1.5.0",
          "state": {
            "_model_module": "@jupyter-widgets/controls",
            "_model_module_version": "1.5.0",
            "_model_name": "DescriptionStyleModel",
            "_view_count": null,
            "_view_module": "@jupyter-widgets/base",
            "_view_module_version": "1.2.0",
            "_view_name": "StyleView",
            "description_width": ""
          }
        },
        "55299559827d4cbd84067bf321db17d9": {
          "model_module": "@jupyter-widgets/controls",
          "model_name": "HBoxModel",
          "model_module_version": "1.5.0",
          "state": {
            "_dom_classes": [],
            "_model_module": "@jupyter-widgets/controls",
            "_model_module_version": "1.5.0",
            "_model_name": "HBoxModel",
            "_view_count": null,
            "_view_module": "@jupyter-widgets/controls",
            "_view_module_version": "1.5.0",
            "_view_name": "HBoxView",
            "box_style": "",
            "children": [
              "IPY_MODEL_99003e4dc83f4652924025700119d18b",
              "IPY_MODEL_635e8c690c364ebbb5d69f87bac44ebd",
              "IPY_MODEL_40b800eee5f04ee0b8958a5c2fd62eff"
            ],
            "layout": "IPY_MODEL_e8a3058ea3484e759dd9528488ae1986"
          }
        },
        "99003e4dc83f4652924025700119d18b": {
          "model_module": "@jupyter-widgets/controls",
          "model_name": "HTMLModel",
          "model_module_version": "1.5.0",
          "state": {
            "_dom_classes": [],
            "_model_module": "@jupyter-widgets/controls",
            "_model_module_version": "1.5.0",
            "_model_name": "HTMLModel",
            "_view_count": null,
            "_view_module": "@jupyter-widgets/controls",
            "_view_module_version": "1.5.0",
            "_view_name": "HTMLView",
            "description": "",
            "description_tooltip": null,
            "layout": "IPY_MODEL_1f2b9580852e428889e2e449aa64e29f",
            "placeholder": "​",
            "style": "IPY_MODEL_8fe13f70ee2c4ec28212a096cf08be5e",
            "value": "bpe.codes: 100%"
          }
        },
        "635e8c690c364ebbb5d69f87bac44ebd": {
          "model_module": "@jupyter-widgets/controls",
          "model_name": "FloatProgressModel",
          "model_module_version": "1.5.0",
          "state": {
            "_dom_classes": [],
            "_model_module": "@jupyter-widgets/controls",
            "_model_module_version": "1.5.0",
            "_model_name": "FloatProgressModel",
            "_view_count": null,
            "_view_module": "@jupyter-widgets/controls",
            "_view_module_version": "1.5.0",
            "_view_name": "ProgressView",
            "bar_style": "success",
            "description": "",
            "description_tooltip": null,
            "layout": "IPY_MODEL_a8c0e49c07494044a86a5562753d6ba8",
            "max": 1135173,
            "min": 0,
            "orientation": "horizontal",
            "style": "IPY_MODEL_ff12d03a37374ef8b8ddea1d17888dcb",
            "value": 1135173
          }
        },
        "40b800eee5f04ee0b8958a5c2fd62eff": {
          "model_module": "@jupyter-widgets/controls",
          "model_name": "HTMLModel",
          "model_module_version": "1.5.0",
          "state": {
            "_dom_classes": [],
            "_model_module": "@jupyter-widgets/controls",
            "_model_module_version": "1.5.0",
            "_model_name": "HTMLModel",
            "_view_count": null,
            "_view_module": "@jupyter-widgets/controls",
            "_view_module_version": "1.5.0",
            "_view_name": "HTMLView",
            "description": "",
            "description_tooltip": null,
            "layout": "IPY_MODEL_ff785e3ec1634d6187445e469066caf0",
            "placeholder": "​",
            "style": "IPY_MODEL_b514fe36b40344df83b72085a74513b4",
            "value": " 1.14M/1.14M [00:00&lt;00:00, 2.56MB/s]"
          }
        },
        "e8a3058ea3484e759dd9528488ae1986": {
          "model_module": "@jupyter-widgets/base",
          "model_name": "LayoutModel",
          "model_module_version": "1.2.0",
          "state": {
            "_model_module": "@jupyter-widgets/base",
            "_model_module_version": "1.2.0",
            "_model_name": "LayoutModel",
            "_view_count": null,
            "_view_module": "@jupyter-widgets/base",
            "_view_module_version": "1.2.0",
            "_view_name": "LayoutView",
            "align_content": null,
            "align_items": null,
            "align_self": null,
            "border": null,
            "bottom": null,
            "display": null,
            "flex": null,
            "flex_flow": null,
            "grid_area": null,
            "grid_auto_columns": null,
            "grid_auto_flow": null,
            "grid_auto_rows": null,
            "grid_column": null,
            "grid_gap": null,
            "grid_row": null,
            "grid_template_areas": null,
            "grid_template_columns": null,
            "grid_template_rows": null,
            "height": null,
            "justify_content": null,
            "justify_items": null,
            "left": null,
            "margin": null,
            "max_height": null,
            "max_width": null,
            "min_height": null,
            "min_width": null,
            "object_fit": null,
            "object_position": null,
            "order": null,
            "overflow": null,
            "overflow_x": null,
            "overflow_y": null,
            "padding": null,
            "right": null,
            "top": null,
            "visibility": null,
            "width": null
          }
        },
        "1f2b9580852e428889e2e449aa64e29f": {
          "model_module": "@jupyter-widgets/base",
          "model_name": "LayoutModel",
          "model_module_version": "1.2.0",
          "state": {
            "_model_module": "@jupyter-widgets/base",
            "_model_module_version": "1.2.0",
            "_model_name": "LayoutModel",
            "_view_count": null,
            "_view_module": "@jupyter-widgets/base",
            "_view_module_version": "1.2.0",
            "_view_name": "LayoutView",
            "align_content": null,
            "align_items": null,
            "align_self": null,
            "border": null,
            "bottom": null,
            "display": null,
            "flex": null,
            "flex_flow": null,
            "grid_area": null,
            "grid_auto_columns": null,
            "grid_auto_flow": null,
            "grid_auto_rows": null,
            "grid_column": null,
            "grid_gap": null,
            "grid_row": null,
            "grid_template_areas": null,
            "grid_template_columns": null,
            "grid_template_rows": null,
            "height": null,
            "justify_content": null,
            "justify_items": null,
            "left": null,
            "margin": null,
            "max_height": null,
            "max_width": null,
            "min_height": null,
            "min_width": null,
            "object_fit": null,
            "object_position": null,
            "order": null,
            "overflow": null,
            "overflow_x": null,
            "overflow_y": null,
            "padding": null,
            "right": null,
            "top": null,
            "visibility": null,
            "width": null
          }
        },
        "8fe13f70ee2c4ec28212a096cf08be5e": {
          "model_module": "@jupyter-widgets/controls",
          "model_name": "DescriptionStyleModel",
          "model_module_version": "1.5.0",
          "state": {
            "_model_module": "@jupyter-widgets/controls",
            "_model_module_version": "1.5.0",
            "_model_name": "DescriptionStyleModel",
            "_view_count": null,
            "_view_module": "@jupyter-widgets/base",
            "_view_module_version": "1.2.0",
            "_view_name": "StyleView",
            "description_width": ""
          }
        },
        "a8c0e49c07494044a86a5562753d6ba8": {
          "model_module": "@jupyter-widgets/base",
          "model_name": "LayoutModel",
          "model_module_version": "1.2.0",
          "state": {
            "_model_module": "@jupyter-widgets/base",
            "_model_module_version": "1.2.0",
            "_model_name": "LayoutModel",
            "_view_count": null,
            "_view_module": "@jupyter-widgets/base",
            "_view_module_version": "1.2.0",
            "_view_name": "LayoutView",
            "align_content": null,
            "align_items": null,
            "align_self": null,
            "border": null,
            "bottom": null,
            "display": null,
            "flex": null,
            "flex_flow": null,
            "grid_area": null,
            "grid_auto_columns": null,
            "grid_auto_flow": null,
            "grid_auto_rows": null,
            "grid_column": null,
            "grid_gap": null,
            "grid_row": null,
            "grid_template_areas": null,
            "grid_template_columns": null,
            "grid_template_rows": null,
            "height": null,
            "justify_content": null,
            "justify_items": null,
            "left": null,
            "margin": null,
            "max_height": null,
            "max_width": null,
            "min_height": null,
            "min_width": null,
            "object_fit": null,
            "object_position": null,
            "order": null,
            "overflow": null,
            "overflow_x": null,
            "overflow_y": null,
            "padding": null,
            "right": null,
            "top": null,
            "visibility": null,
            "width": null
          }
        },
        "ff12d03a37374ef8b8ddea1d17888dcb": {
          "model_module": "@jupyter-widgets/controls",
          "model_name": "ProgressStyleModel",
          "model_module_version": "1.5.0",
          "state": {
            "_model_module": "@jupyter-widgets/controls",
            "_model_module_version": "1.5.0",
            "_model_name": "ProgressStyleModel",
            "_view_count": null,
            "_view_module": "@jupyter-widgets/base",
            "_view_module_version": "1.2.0",
            "_view_name": "StyleView",
            "bar_color": null,
            "description_width": ""
          }
        },
        "ff785e3ec1634d6187445e469066caf0": {
          "model_module": "@jupyter-widgets/base",
          "model_name": "LayoutModel",
          "model_module_version": "1.2.0",
          "state": {
            "_model_module": "@jupyter-widgets/base",
            "_model_module_version": "1.2.0",
            "_model_name": "LayoutModel",
            "_view_count": null,
            "_view_module": "@jupyter-widgets/base",
            "_view_module_version": "1.2.0",
            "_view_name": "LayoutView",
            "align_content": null,
            "align_items": null,
            "align_self": null,
            "border": null,
            "bottom": null,
            "display": null,
            "flex": null,
            "flex_flow": null,
            "grid_area": null,
            "grid_auto_columns": null,
            "grid_auto_flow": null,
            "grid_auto_rows": null,
            "grid_column": null,
            "grid_gap": null,
            "grid_row": null,
            "grid_template_areas": null,
            "grid_template_columns": null,
            "grid_template_rows": null,
            "height": null,
            "justify_content": null,
            "justify_items": null,
            "left": null,
            "margin": null,
            "max_height": null,
            "max_width": null,
            "min_height": null,
            "min_width": null,
            "object_fit": null,
            "object_position": null,
            "order": null,
            "overflow": null,
            "overflow_x": null,
            "overflow_y": null,
            "padding": null,
            "right": null,
            "top": null,
            "visibility": null,
            "width": null
          }
        },
        "b514fe36b40344df83b72085a74513b4": {
          "model_module": "@jupyter-widgets/controls",
          "model_name": "DescriptionStyleModel",
          "model_module_version": "1.5.0",
          "state": {
            "_model_module": "@jupyter-widgets/controls",
            "_model_module_version": "1.5.0",
            "_model_name": "DescriptionStyleModel",
            "_view_count": null,
            "_view_module": "@jupyter-widgets/base",
            "_view_module_version": "1.2.0",
            "_view_name": "StyleView",
            "description_width": ""
          }
        },
        "1e7413369c7347e6809477b8ad9252af": {
          "model_module": "@jupyter-widgets/controls",
          "model_name": "HBoxModel",
          "model_module_version": "1.5.0",
          "state": {
            "_dom_classes": [],
            "_model_module": "@jupyter-widgets/controls",
            "_model_module_version": "1.5.0",
            "_model_name": "HBoxModel",
            "_view_count": null,
            "_view_module": "@jupyter-widgets/controls",
            "_view_module_version": "1.5.0",
            "_view_name": "HBoxView",
            "box_style": "",
            "children": [
              "IPY_MODEL_ddd60a9b37594c9eb268b5fdac040536",
              "IPY_MODEL_235f5ec70cf74f7196cb321df3b58adc",
              "IPY_MODEL_19a76651fceb477f8b5388413fa0ec7a"
            ],
            "layout": "IPY_MODEL_4cafe5af979a406eb660115ecc05d3bb"
          }
        },
        "ddd60a9b37594c9eb268b5fdac040536": {
          "model_module": "@jupyter-widgets/controls",
          "model_name": "HTMLModel",
          "model_module_version": "1.5.0",
          "state": {
            "_dom_classes": [],
            "_model_module": "@jupyter-widgets/controls",
            "_model_module_version": "1.5.0",
            "_model_name": "HTMLModel",
            "_view_count": null,
            "_view_module": "@jupyter-widgets/controls",
            "_view_module_version": "1.5.0",
            "_view_name": "HTMLView",
            "description": "",
            "description_tooltip": null,
            "layout": "IPY_MODEL_ab4f8bea278a486db4b6a33192678591",
            "placeholder": "​",
            "style": "IPY_MODEL_1541cf3c17b0462c8c8e4cd01527f810",
            "value": "tokenizer.json: 100%"
          }
        },
        "235f5ec70cf74f7196cb321df3b58adc": {
          "model_module": "@jupyter-widgets/controls",
          "model_name": "FloatProgressModel",
          "model_module_version": "1.5.0",
          "state": {
            "_dom_classes": [],
            "_model_module": "@jupyter-widgets/controls",
            "_model_module_version": "1.5.0",
            "_model_name": "FloatProgressModel",
            "_view_count": null,
            "_view_module": "@jupyter-widgets/controls",
            "_view_module_version": "1.5.0",
            "_view_name": "ProgressView",
            "bar_style": "success",
            "description": "",
            "description_tooltip": null,
            "layout": "IPY_MODEL_36bc2a2d05aa47ada8fef2be703e6386",
            "max": 3132320,
            "min": 0,
            "orientation": "horizontal",
            "style": "IPY_MODEL_e4c5dd1514ba4f3c805c02a7e19933ef",
            "value": 3132320
          }
        },
        "19a76651fceb477f8b5388413fa0ec7a": {
          "model_module": "@jupyter-widgets/controls",
          "model_name": "HTMLModel",
          "model_module_version": "1.5.0",
          "state": {
            "_dom_classes": [],
            "_model_module": "@jupyter-widgets/controls",
            "_model_module_version": "1.5.0",
            "_model_name": "HTMLModel",
            "_view_count": null,
            "_view_module": "@jupyter-widgets/controls",
            "_view_module_version": "1.5.0",
            "_view_name": "HTMLView",
            "description": "",
            "description_tooltip": null,
            "layout": "IPY_MODEL_3a69df8cf27f41f98311de631ca43cae",
            "placeholder": "​",
            "style": "IPY_MODEL_ab000c2c40bb4727843e3a9d87d38ee4",
            "value": " 3.13M/3.13M [00:00&lt;00:00, 10.9MB/s]"
          }
        },
        "4cafe5af979a406eb660115ecc05d3bb": {
          "model_module": "@jupyter-widgets/base",
          "model_name": "LayoutModel",
          "model_module_version": "1.2.0",
          "state": {
            "_model_module": "@jupyter-widgets/base",
            "_model_module_version": "1.2.0",
            "_model_name": "LayoutModel",
            "_view_count": null,
            "_view_module": "@jupyter-widgets/base",
            "_view_module_version": "1.2.0",
            "_view_name": "LayoutView",
            "align_content": null,
            "align_items": null,
            "align_self": null,
            "border": null,
            "bottom": null,
            "display": null,
            "flex": null,
            "flex_flow": null,
            "grid_area": null,
            "grid_auto_columns": null,
            "grid_auto_flow": null,
            "grid_auto_rows": null,
            "grid_column": null,
            "grid_gap": null,
            "grid_row": null,
            "grid_template_areas": null,
            "grid_template_columns": null,
            "grid_template_rows": null,
            "height": null,
            "justify_content": null,
            "justify_items": null,
            "left": null,
            "margin": null,
            "max_height": null,
            "max_width": null,
            "min_height": null,
            "min_width": null,
            "object_fit": null,
            "object_position": null,
            "order": null,
            "overflow": null,
            "overflow_x": null,
            "overflow_y": null,
            "padding": null,
            "right": null,
            "top": null,
            "visibility": null,
            "width": null
          }
        },
        "ab4f8bea278a486db4b6a33192678591": {
          "model_module": "@jupyter-widgets/base",
          "model_name": "LayoutModel",
          "model_module_version": "1.2.0",
          "state": {
            "_model_module": "@jupyter-widgets/base",
            "_model_module_version": "1.2.0",
            "_model_name": "LayoutModel",
            "_view_count": null,
            "_view_module": "@jupyter-widgets/base",
            "_view_module_version": "1.2.0",
            "_view_name": "LayoutView",
            "align_content": null,
            "align_items": null,
            "align_self": null,
            "border": null,
            "bottom": null,
            "display": null,
            "flex": null,
            "flex_flow": null,
            "grid_area": null,
            "grid_auto_columns": null,
            "grid_auto_flow": null,
            "grid_auto_rows": null,
            "grid_column": null,
            "grid_gap": null,
            "grid_row": null,
            "grid_template_areas": null,
            "grid_template_columns": null,
            "grid_template_rows": null,
            "height": null,
            "justify_content": null,
            "justify_items": null,
            "left": null,
            "margin": null,
            "max_height": null,
            "max_width": null,
            "min_height": null,
            "min_width": null,
            "object_fit": null,
            "object_position": null,
            "order": null,
            "overflow": null,
            "overflow_x": null,
            "overflow_y": null,
            "padding": null,
            "right": null,
            "top": null,
            "visibility": null,
            "width": null
          }
        },
        "1541cf3c17b0462c8c8e4cd01527f810": {
          "model_module": "@jupyter-widgets/controls",
          "model_name": "DescriptionStyleModel",
          "model_module_version": "1.5.0",
          "state": {
            "_model_module": "@jupyter-widgets/controls",
            "_model_module_version": "1.5.0",
            "_model_name": "DescriptionStyleModel",
            "_view_count": null,
            "_view_module": "@jupyter-widgets/base",
            "_view_module_version": "1.2.0",
            "_view_name": "StyleView",
            "description_width": ""
          }
        },
        "36bc2a2d05aa47ada8fef2be703e6386": {
          "model_module": "@jupyter-widgets/base",
          "model_name": "LayoutModel",
          "model_module_version": "1.2.0",
          "state": {
            "_model_module": "@jupyter-widgets/base",
            "_model_module_version": "1.2.0",
            "_model_name": "LayoutModel",
            "_view_count": null,
            "_view_module": "@jupyter-widgets/base",
            "_view_module_version": "1.2.0",
            "_view_name": "LayoutView",
            "align_content": null,
            "align_items": null,
            "align_self": null,
            "border": null,
            "bottom": null,
            "display": null,
            "flex": null,
            "flex_flow": null,
            "grid_area": null,
            "grid_auto_columns": null,
            "grid_auto_flow": null,
            "grid_auto_rows": null,
            "grid_column": null,
            "grid_gap": null,
            "grid_row": null,
            "grid_template_areas": null,
            "grid_template_columns": null,
            "grid_template_rows": null,
            "height": null,
            "justify_content": null,
            "justify_items": null,
            "left": null,
            "margin": null,
            "max_height": null,
            "max_width": null,
            "min_height": null,
            "min_width": null,
            "object_fit": null,
            "object_position": null,
            "order": null,
            "overflow": null,
            "overflow_x": null,
            "overflow_y": null,
            "padding": null,
            "right": null,
            "top": null,
            "visibility": null,
            "width": null
          }
        },
        "e4c5dd1514ba4f3c805c02a7e19933ef": {
          "model_module": "@jupyter-widgets/controls",
          "model_name": "ProgressStyleModel",
          "model_module_version": "1.5.0",
          "state": {
            "_model_module": "@jupyter-widgets/controls",
            "_model_module_version": "1.5.0",
            "_model_name": "ProgressStyleModel",
            "_view_count": null,
            "_view_module": "@jupyter-widgets/base",
            "_view_module_version": "1.2.0",
            "_view_name": "StyleView",
            "bar_color": null,
            "description_width": ""
          }
        },
        "3a69df8cf27f41f98311de631ca43cae": {
          "model_module": "@jupyter-widgets/base",
          "model_name": "LayoutModel",
          "model_module_version": "1.2.0",
          "state": {
            "_model_module": "@jupyter-widgets/base",
            "_model_module_version": "1.2.0",
            "_model_name": "LayoutModel",
            "_view_count": null,
            "_view_module": "@jupyter-widgets/base",
            "_view_module_version": "1.2.0",
            "_view_name": "LayoutView",
            "align_content": null,
            "align_items": null,
            "align_self": null,
            "border": null,
            "bottom": null,
            "display": null,
            "flex": null,
            "flex_flow": null,
            "grid_area": null,
            "grid_auto_columns": null,
            "grid_auto_flow": null,
            "grid_auto_rows": null,
            "grid_column": null,
            "grid_gap": null,
            "grid_row": null,
            "grid_template_areas": null,
            "grid_template_columns": null,
            "grid_template_rows": null,
            "height": null,
            "justify_content": null,
            "justify_items": null,
            "left": null,
            "margin": null,
            "max_height": null,
            "max_width": null,
            "min_height": null,
            "min_width": null,
            "object_fit": null,
            "object_position": null,
            "order": null,
            "overflow": null,
            "overflow_x": null,
            "overflow_y": null,
            "padding": null,
            "right": null,
            "top": null,
            "visibility": null,
            "width": null
          }
        },
        "ab000c2c40bb4727843e3a9d87d38ee4": {
          "model_module": "@jupyter-widgets/controls",
          "model_name": "DescriptionStyleModel",
          "model_module_version": "1.5.0",
          "state": {
            "_model_module": "@jupyter-widgets/controls",
            "_model_module_version": "1.5.0",
            "_model_name": "DescriptionStyleModel",
            "_view_count": null,
            "_view_module": "@jupyter-widgets/base",
            "_view_module_version": "1.2.0",
            "_view_name": "StyleView",
            "description_width": ""
          }
        },
        "9eb23ca27a9046da9822a9f258848653": {
          "model_module": "@jupyter-widgets/controls",
          "model_name": "HBoxModel",
          "model_module_version": "1.5.0",
          "state": {
            "_dom_classes": [],
            "_model_module": "@jupyter-widgets/controls",
            "_model_module_version": "1.5.0",
            "_model_name": "HBoxModel",
            "_view_count": null,
            "_view_module": "@jupyter-widgets/controls",
            "_view_module_version": "1.5.0",
            "_view_name": "HBoxView",
            "box_style": "",
            "children": [
              "IPY_MODEL_c70d90fb01c84ac78e9f88be48d35a51",
              "IPY_MODEL_19071072a4ce417ab3cc3b59bbb118c8",
              "IPY_MODEL_d304a380df324d07a129d754883ba788"
            ],
            "layout": "IPY_MODEL_87140769815b4fa38f73be5a34825e13"
          }
        },
        "c70d90fb01c84ac78e9f88be48d35a51": {
          "model_module": "@jupyter-widgets/controls",
          "model_name": "HTMLModel",
          "model_module_version": "1.5.0",
          "state": {
            "_dom_classes": [],
            "_model_module": "@jupyter-widgets/controls",
            "_model_module_version": "1.5.0",
            "_model_name": "HTMLModel",
            "_view_count": null,
            "_view_module": "@jupyter-widgets/controls",
            "_view_module_version": "1.5.0",
            "_view_name": "HTMLView",
            "description": "",
            "description_tooltip": null,
            "layout": "IPY_MODEL_e6eb392c6d74438aa6cd07f5157ca8a6",
            "placeholder": "​",
            "style": "IPY_MODEL_6259dc0be6ae4f0a9fa571609549125e",
            "value": "pytorch_model.bin: 100%"
          }
        },
        "19071072a4ce417ab3cc3b59bbb118c8": {
          "model_module": "@jupyter-widgets/controls",
          "model_name": "FloatProgressModel",
          "model_module_version": "1.5.0",
          "state": {
            "_dom_classes": [],
            "_model_module": "@jupyter-widgets/controls",
            "_model_module_version": "1.5.0",
            "_model_name": "FloatProgressModel",
            "_view_count": null,
            "_view_module": "@jupyter-widgets/controls",
            "_view_module_version": "1.5.0",
            "_view_name": "ProgressView",
            "bar_style": "success",
            "description": "",
            "description_tooltip": null,
            "layout": "IPY_MODEL_bb57a80ab6144e26aa28d2dfac31cdc6",
            "max": 540322347,
            "min": 0,
            "orientation": "horizontal",
            "style": "IPY_MODEL_e118377b8e25474a9fc497f2a48984ea",
            "value": 540322347
          }
        },
        "d304a380df324d07a129d754883ba788": {
          "model_module": "@jupyter-widgets/controls",
          "model_name": "HTMLModel",
          "model_module_version": "1.5.0",
          "state": {
            "_dom_classes": [],
            "_model_module": "@jupyter-widgets/controls",
            "_model_module_version": "1.5.0",
            "_model_name": "HTMLModel",
            "_view_count": null,
            "_view_module": "@jupyter-widgets/controls",
            "_view_module_version": "1.5.0",
            "_view_name": "HTMLView",
            "description": "",
            "description_tooltip": null,
            "layout": "IPY_MODEL_93881a03f2a54a11b041db89b84b9746",
            "placeholder": "​",
            "style": "IPY_MODEL_1349fbf5d7df4cb58e8f2c018c83ba7f",
            "value": " 540M/540M [00:04&lt;00:00, 129MB/s]"
          }
        },
        "87140769815b4fa38f73be5a34825e13": {
          "model_module": "@jupyter-widgets/base",
          "model_name": "LayoutModel",
          "model_module_version": "1.2.0",
          "state": {
            "_model_module": "@jupyter-widgets/base",
            "_model_module_version": "1.2.0",
            "_model_name": "LayoutModel",
            "_view_count": null,
            "_view_module": "@jupyter-widgets/base",
            "_view_module_version": "1.2.0",
            "_view_name": "LayoutView",
            "align_content": null,
            "align_items": null,
            "align_self": null,
            "border": null,
            "bottom": null,
            "display": null,
            "flex": null,
            "flex_flow": null,
            "grid_area": null,
            "grid_auto_columns": null,
            "grid_auto_flow": null,
            "grid_auto_rows": null,
            "grid_column": null,
            "grid_gap": null,
            "grid_row": null,
            "grid_template_areas": null,
            "grid_template_columns": null,
            "grid_template_rows": null,
            "height": null,
            "justify_content": null,
            "justify_items": null,
            "left": null,
            "margin": null,
            "max_height": null,
            "max_width": null,
            "min_height": null,
            "min_width": null,
            "object_fit": null,
            "object_position": null,
            "order": null,
            "overflow": null,
            "overflow_x": null,
            "overflow_y": null,
            "padding": null,
            "right": null,
            "top": null,
            "visibility": null,
            "width": null
          }
        },
        "e6eb392c6d74438aa6cd07f5157ca8a6": {
          "model_module": "@jupyter-widgets/base",
          "model_name": "LayoutModel",
          "model_module_version": "1.2.0",
          "state": {
            "_model_module": "@jupyter-widgets/base",
            "_model_module_version": "1.2.0",
            "_model_name": "LayoutModel",
            "_view_count": null,
            "_view_module": "@jupyter-widgets/base",
            "_view_module_version": "1.2.0",
            "_view_name": "LayoutView",
            "align_content": null,
            "align_items": null,
            "align_self": null,
            "border": null,
            "bottom": null,
            "display": null,
            "flex": null,
            "flex_flow": null,
            "grid_area": null,
            "grid_auto_columns": null,
            "grid_auto_flow": null,
            "grid_auto_rows": null,
            "grid_column": null,
            "grid_gap": null,
            "grid_row": null,
            "grid_template_areas": null,
            "grid_template_columns": null,
            "grid_template_rows": null,
            "height": null,
            "justify_content": null,
            "justify_items": null,
            "left": null,
            "margin": null,
            "max_height": null,
            "max_width": null,
            "min_height": null,
            "min_width": null,
            "object_fit": null,
            "object_position": null,
            "order": null,
            "overflow": null,
            "overflow_x": null,
            "overflow_y": null,
            "padding": null,
            "right": null,
            "top": null,
            "visibility": null,
            "width": null
          }
        },
        "6259dc0be6ae4f0a9fa571609549125e": {
          "model_module": "@jupyter-widgets/controls",
          "model_name": "DescriptionStyleModel",
          "model_module_version": "1.5.0",
          "state": {
            "_model_module": "@jupyter-widgets/controls",
            "_model_module_version": "1.5.0",
            "_model_name": "DescriptionStyleModel",
            "_view_count": null,
            "_view_module": "@jupyter-widgets/base",
            "_view_module_version": "1.2.0",
            "_view_name": "StyleView",
            "description_width": ""
          }
        },
        "bb57a80ab6144e26aa28d2dfac31cdc6": {
          "model_module": "@jupyter-widgets/base",
          "model_name": "LayoutModel",
          "model_module_version": "1.2.0",
          "state": {
            "_model_module": "@jupyter-widgets/base",
            "_model_module_version": "1.2.0",
            "_model_name": "LayoutModel",
            "_view_count": null,
            "_view_module": "@jupyter-widgets/base",
            "_view_module_version": "1.2.0",
            "_view_name": "LayoutView",
            "align_content": null,
            "align_items": null,
            "align_self": null,
            "border": null,
            "bottom": null,
            "display": null,
            "flex": null,
            "flex_flow": null,
            "grid_area": null,
            "grid_auto_columns": null,
            "grid_auto_flow": null,
            "grid_auto_rows": null,
            "grid_column": null,
            "grid_gap": null,
            "grid_row": null,
            "grid_template_areas": null,
            "grid_template_columns": null,
            "grid_template_rows": null,
            "height": null,
            "justify_content": null,
            "justify_items": null,
            "left": null,
            "margin": null,
            "max_height": null,
            "max_width": null,
            "min_height": null,
            "min_width": null,
            "object_fit": null,
            "object_position": null,
            "order": null,
            "overflow": null,
            "overflow_x": null,
            "overflow_y": null,
            "padding": null,
            "right": null,
            "top": null,
            "visibility": null,
            "width": null
          }
        },
        "e118377b8e25474a9fc497f2a48984ea": {
          "model_module": "@jupyter-widgets/controls",
          "model_name": "ProgressStyleModel",
          "model_module_version": "1.5.0",
          "state": {
            "_model_module": "@jupyter-widgets/controls",
            "_model_module_version": "1.5.0",
            "_model_name": "ProgressStyleModel",
            "_view_count": null,
            "_view_module": "@jupyter-widgets/base",
            "_view_module_version": "1.2.0",
            "_view_name": "StyleView",
            "bar_color": null,
            "description_width": ""
          }
        },
        "93881a03f2a54a11b041db89b84b9746": {
          "model_module": "@jupyter-widgets/base",
          "model_name": "LayoutModel",
          "model_module_version": "1.2.0",
          "state": {
            "_model_module": "@jupyter-widgets/base",
            "_model_module_version": "1.2.0",
            "_model_name": "LayoutModel",
            "_view_count": null,
            "_view_module": "@jupyter-widgets/base",
            "_view_module_version": "1.2.0",
            "_view_name": "LayoutView",
            "align_content": null,
            "align_items": null,
            "align_self": null,
            "border": null,
            "bottom": null,
            "display": null,
            "flex": null,
            "flex_flow": null,
            "grid_area": null,
            "grid_auto_columns": null,
            "grid_auto_flow": null,
            "grid_auto_rows": null,
            "grid_column": null,
            "grid_gap": null,
            "grid_row": null,
            "grid_template_areas": null,
            "grid_template_columns": null,
            "grid_template_rows": null,
            "height": null,
            "justify_content": null,
            "justify_items": null,
            "left": null,
            "margin": null,
            "max_height": null,
            "max_width": null,
            "min_height": null,
            "min_width": null,
            "object_fit": null,
            "object_position": null,
            "order": null,
            "overflow": null,
            "overflow_x": null,
            "overflow_y": null,
            "padding": null,
            "right": null,
            "top": null,
            "visibility": null,
            "width": null
          }
        },
        "1349fbf5d7df4cb58e8f2c018c83ba7f": {
          "model_module": "@jupyter-widgets/controls",
          "model_name": "DescriptionStyleModel",
          "model_module_version": "1.5.0",
          "state": {
            "_model_module": "@jupyter-widgets/controls",
            "_model_module_version": "1.5.0",
            "_model_name": "DescriptionStyleModel",
            "_view_count": null,
            "_view_module": "@jupyter-widgets/base",
            "_view_module_version": "1.2.0",
            "_view_name": "StyleView",
            "description_width": ""
          }
        }
      }
    }
  },
  "cells": [
    {
      "cell_type": "code",
      "source": [
        "pip install underthesea"
      ],
      "metadata": {
        "colab": {
          "base_uri": "https://localhost:8080/"
        },
        "id": "7A6kyIqj0GL7",
        "outputId": "7341fb77-6d1f-4816-8470-1dfbfdebdcde"
      },
      "execution_count": null,
      "outputs": [
        {
          "output_type": "stream",
          "name": "stdout",
          "text": [
            "Collecting underthesea\n",
            "  Downloading underthesea-6.8.4-py3-none-any.whl.metadata (15 kB)\n",
            "Requirement already satisfied: Click>=6.0 in /usr/local/lib/python3.10/dist-packages (from underthesea) (8.1.7)\n",
            "Collecting python-crfsuite>=0.9.6 (from underthesea)\n",
            "  Downloading python_crfsuite-0.9.11-cp310-cp310-manylinux_2_17_x86_64.manylinux2014_x86_64.whl.metadata (4.3 kB)\n",
            "Requirement already satisfied: nltk in /usr/local/lib/python3.10/dist-packages (from underthesea) (3.9.1)\n",
            "Requirement already satisfied: tqdm in /usr/local/lib/python3.10/dist-packages (from underthesea) (4.67.1)\n",
            "Requirement already satisfied: requests in /usr/local/lib/python3.10/dist-packages (from underthesea) (2.32.3)\n",
            "Requirement already satisfied: joblib in /usr/local/lib/python3.10/dist-packages (from underthesea) (1.4.2)\n",
            "Requirement already satisfied: scikit-learn in /usr/local/lib/python3.10/dist-packages (from underthesea) (1.6.0)\n",
            "Requirement already satisfied: PyYAML in /usr/local/lib/python3.10/dist-packages (from underthesea) (6.0.2)\n",
            "Collecting underthesea-core==1.0.4 (from underthesea)\n",
            "  Downloading underthesea_core-1.0.4-cp310-cp310-manylinux2010_x86_64.whl.metadata (1.7 kB)\n",
            "Requirement already satisfied: regex>=2021.8.3 in /usr/local/lib/python3.10/dist-packages (from nltk->underthesea) (2024.11.6)\n",
            "Requirement already satisfied: charset-normalizer<4,>=2 in /usr/local/lib/python3.10/dist-packages (from requests->underthesea) (3.4.0)\n",
            "Requirement already satisfied: idna<4,>=2.5 in /usr/local/lib/python3.10/dist-packages (from requests->underthesea) (3.10)\n",
            "Requirement already satisfied: urllib3<3,>=1.21.1 in /usr/local/lib/python3.10/dist-packages (from requests->underthesea) (2.2.3)\n",
            "Requirement already satisfied: certifi>=2017.4.17 in /usr/local/lib/python3.10/dist-packages (from requests->underthesea) (2024.12.14)\n",
            "Requirement already satisfied: numpy>=1.19.5 in /usr/local/lib/python3.10/dist-packages (from scikit-learn->underthesea) (1.26.4)\n",
            "Requirement already satisfied: scipy>=1.6.0 in /usr/local/lib/python3.10/dist-packages (from scikit-learn->underthesea) (1.13.1)\n",
            "Requirement already satisfied: threadpoolctl>=3.1.0 in /usr/local/lib/python3.10/dist-packages (from scikit-learn->underthesea) (3.5.0)\n",
            "Downloading underthesea-6.8.4-py3-none-any.whl (20.9 MB)\n",
            "\u001b[2K   \u001b[90m━━━━━━━━━━━━━━━━━━━━━━━━━━━━━━━━━━━━━━━━\u001b[0m \u001b[32m20.9/20.9 MB\u001b[0m \u001b[31m34.8 MB/s\u001b[0m eta \u001b[36m0:00:00\u001b[0m\n",
            "\u001b[?25hDownloading underthesea_core-1.0.4-cp310-cp310-manylinux2010_x86_64.whl (657 kB)\n",
            "\u001b[2K   \u001b[90m━━━━━━━━━━━━━━━━━━━━━━━━━━━━━━━━━━━━━━━━\u001b[0m \u001b[32m657.8/657.8 kB\u001b[0m \u001b[31m35.0 MB/s\u001b[0m eta \u001b[36m0:00:00\u001b[0m\n",
            "\u001b[?25hDownloading python_crfsuite-0.9.11-cp310-cp310-manylinux_2_17_x86_64.manylinux2014_x86_64.whl (1.2 MB)\n",
            "\u001b[2K   \u001b[90m━━━━━━━━━━━━━━━━━━━━━━━━━━━━━━━━━━━━━━━━\u001b[0m \u001b[32m1.2/1.2 MB\u001b[0m \u001b[31m44.9 MB/s\u001b[0m eta \u001b[36m0:00:00\u001b[0m\n",
            "\u001b[?25hInstalling collected packages: underthesea-core, python-crfsuite, underthesea\n",
            "Successfully installed python-crfsuite-0.9.11 underthesea-6.8.4 underthesea-core-1.0.4\n"
          ]
        }
      ]
    },
    {
      "cell_type": "markdown",
      "source": [
        "# Library define"
      ],
      "metadata": {
        "id": "dV4b_bSNqst6"
      }
    },
    {
      "cell_type": "code",
      "execution_count": null,
      "metadata": {
        "id": "qZ5AbT5ZqhqU"
      },
      "outputs": [],
      "source": [
        "import torch\n",
        "import torch.nn as nn\n",
        "from transformers import AutoModel, AutoTokenizer\n",
        "from torchvision.models import vit_b_16, ViT_B_16_Weights\n",
        "from torchvision.transforms import Compose, Resize, CenterCrop, Normalize, ToTensor\n",
        "import underthesea\n",
        "import json\n",
        "import pandas as pd\n",
        "import re\n",
        "import numpy as np\n",
        "from sklearn.metrics import accuracy_score, precision_score, recall_score, f1_score\n",
        "from torch.utils.data import DataLoader\n",
        "from tqdm import tqdm\n",
        "from PIL import Image\n",
        "import os\n",
        "from sklearn.preprocessing import LabelEncoder\n",
        "from sklearn.metrics import classification_report, confusion_matrix"
      ]
    },
    {
      "cell_type": "code",
      "source": [
        "device = torch.device(\"cuda\" if torch.cuda.is_available() else \"cpu\")"
      ],
      "metadata": {
        "id": "IuK7xEgSOsfb"
      },
      "execution_count": null,
      "outputs": []
    },
    {
      "cell_type": "markdown",
      "source": [
        "# Trích xuất embedding"
      ],
      "metadata": {
        "id": "ryynRsLn-v8V"
      }
    },
    {
      "cell_type": "markdown",
      "source": [
        "## PhoBERT"
      ],
      "metadata": {
        "id": "xlRrMg3UOiDq"
      }
    },
    {
      "cell_type": "code",
      "source": [
        "model_name = \"vinai/phobert-base-v2\"\n",
        "bert_tokenizer = AutoTokenizer.from_pretrained(model_name)\n",
        "bert_model = AutoModel.from_pretrained(model_name)"
      ],
      "metadata": {
        "colab": {
          "base_uri": "https://localhost:8080/",
          "height": 316,
          "referenced_widgets": [
            "0729d46ecfad42e2977fedb8eddd7044",
            "235b2cebf81c45c79a22c3f60e38f6e1",
            "8804cc986e964ebc8d67ac5f9dbf3751",
            "78643facc0304a38ac77ee89e6c7ef78",
            "f8bc35753df343b19843ea9ecbd580a0",
            "449fa2df4bc9470ca28627a5f5950cea",
            "49569e4f8cb143e58aed8c6909275e1f",
            "a50a5efb3e9a4ebcafa183e455d5acc2",
            "53a1110a3f3c48569d31d76601b3bb7a",
            "52c074c6dfeb4a919705424f861e5b9d",
            "2b8adbe25c674441b3e13f6ad97db205",
            "1a94eef40fd847dbb5ade236f6a1aabe",
            "e9a2a117528f45f5887994216be9de57",
            "d276bd2ed43440be8d1f78c7926dcf1a",
            "f9a69d041f464cc589289462e2371a0a",
            "b4453bbdc4154bdab3ede2f983c0b7fc",
            "6fb352d2bb804bf6ba11a87456b9f672",
            "05a02fb026934cf98264974d74648fb5",
            "fc6acf3962a44be98351e0462c9bbad1",
            "7e04728298014486b8142c7634bcc806",
            "96200f59f7654d2a9616cf4c9f931807",
            "eb35b5f024704b2e9f764a58803ea4af",
            "55299559827d4cbd84067bf321db17d9",
            "99003e4dc83f4652924025700119d18b",
            "635e8c690c364ebbb5d69f87bac44ebd",
            "40b800eee5f04ee0b8958a5c2fd62eff",
            "e8a3058ea3484e759dd9528488ae1986",
            "1f2b9580852e428889e2e449aa64e29f",
            "8fe13f70ee2c4ec28212a096cf08be5e",
            "a8c0e49c07494044a86a5562753d6ba8",
            "ff12d03a37374ef8b8ddea1d17888dcb",
            "ff785e3ec1634d6187445e469066caf0",
            "b514fe36b40344df83b72085a74513b4",
            "1e7413369c7347e6809477b8ad9252af",
            "ddd60a9b37594c9eb268b5fdac040536",
            "235f5ec70cf74f7196cb321df3b58adc",
            "19a76651fceb477f8b5388413fa0ec7a",
            "4cafe5af979a406eb660115ecc05d3bb",
            "ab4f8bea278a486db4b6a33192678591",
            "1541cf3c17b0462c8c8e4cd01527f810",
            "36bc2a2d05aa47ada8fef2be703e6386",
            "e4c5dd1514ba4f3c805c02a7e19933ef",
            "3a69df8cf27f41f98311de631ca43cae",
            "ab000c2c40bb4727843e3a9d87d38ee4",
            "9eb23ca27a9046da9822a9f258848653",
            "c70d90fb01c84ac78e9f88be48d35a51",
            "19071072a4ce417ab3cc3b59bbb118c8",
            "d304a380df324d07a129d754883ba788",
            "87140769815b4fa38f73be5a34825e13",
            "e6eb392c6d74438aa6cd07f5157ca8a6",
            "6259dc0be6ae4f0a9fa571609549125e",
            "bb57a80ab6144e26aa28d2dfac31cdc6",
            "e118377b8e25474a9fc497f2a48984ea",
            "93881a03f2a54a11b041db89b84b9746",
            "1349fbf5d7df4cb58e8f2c018c83ba7f"
          ]
        },
        "id": "tXzjLIJcKOcQ",
        "outputId": "86aed2ef-0479-4e9d-d311-5c94e5461fa9"
      },
      "execution_count": null,
      "outputs": [
        {
          "output_type": "stream",
          "name": "stderr",
          "text": [
            "/usr/local/lib/python3.10/dist-packages/huggingface_hub/utils/_auth.py:94: UserWarning: \n",
            "The secret `HF_TOKEN` does not exist in your Colab secrets.\n",
            "To authenticate with the Hugging Face Hub, create a token in your settings tab (https://huggingface.co/settings/tokens), set it as secret in your Google Colab and restart your session.\n",
            "You will be able to reuse this secret in all of your notebooks.\n",
            "Please note that authentication is recommended but still optional to access public models or datasets.\n",
            "  warnings.warn(\n"
          ]
        },
        {
          "output_type": "display_data",
          "data": {
            "text/plain": [
              "config.json:   0%|          | 0.00/678 [00:00<?, ?B/s]"
            ],
            "application/vnd.jupyter.widget-view+json": {
              "version_major": 2,
              "version_minor": 0,
              "model_id": "0729d46ecfad42e2977fedb8eddd7044"
            }
          },
          "metadata": {}
        },
        {
          "output_type": "display_data",
          "data": {
            "text/plain": [
              "vocab.txt:   0%|          | 0.00/895k [00:00<?, ?B/s]"
            ],
            "application/vnd.jupyter.widget-view+json": {
              "version_major": 2,
              "version_minor": 0,
              "model_id": "1a94eef40fd847dbb5ade236f6a1aabe"
            }
          },
          "metadata": {}
        },
        {
          "output_type": "display_data",
          "data": {
            "text/plain": [
              "bpe.codes:   0%|          | 0.00/1.14M [00:00<?, ?B/s]"
            ],
            "application/vnd.jupyter.widget-view+json": {
              "version_major": 2,
              "version_minor": 0,
              "model_id": "55299559827d4cbd84067bf321db17d9"
            }
          },
          "metadata": {}
        },
        {
          "output_type": "display_data",
          "data": {
            "text/plain": [
              "tokenizer.json:   0%|          | 0.00/3.13M [00:00<?, ?B/s]"
            ],
            "application/vnd.jupyter.widget-view+json": {
              "version_major": 2,
              "version_minor": 0,
              "model_id": "1e7413369c7347e6809477b8ad9252af"
            }
          },
          "metadata": {}
        },
        {
          "output_type": "display_data",
          "data": {
            "text/plain": [
              "pytorch_model.bin:   0%|          | 0.00/540M [00:00<?, ?B/s]"
            ],
            "application/vnd.jupyter.widget-view+json": {
              "version_major": 2,
              "version_minor": 0,
              "model_id": "9eb23ca27a9046da9822a9f258848653"
            }
          },
          "metadata": {}
        },
        {
          "output_type": "stream",
          "name": "stderr",
          "text": [
            "Some weights of RobertaModel were not initialized from the model checkpoint at vinai/phobert-base-v2 and are newly initialized: ['roberta.pooler.dense.bias', 'roberta.pooler.dense.weight']\n",
            "You should probably TRAIN this model on a down-stream task to be able to use it for predictions and inference.\n"
          ]
        }
      ]
    },
    {
      "cell_type": "code",
      "source": [
        "def get_sentences_embeddings(context, bert_tokenizer, bert_model, DEVICE = 'cpu'):\n",
        "    bert_model.to(DEVICE)\n",
        "    sentences = underthesea.sent_tokenize(context)\n",
        "    # Lấy 5 câu đầu\n",
        "    if len(sentences) > 5:\n",
        "      sentences = sentences[:5]\n",
        "    all_embeddings = []\n",
        "    for sentence in sentences:\n",
        "        inputs = bert_tokenizer(sentence, return_tensors=\"pt\",\n",
        "                                padding=True, truncation=True, max_length=256)\n",
        "        input_ids = inputs[\"input_ids\"]\n",
        "        attention_mask = inputs[\"attention_mask\"]\n",
        "\n",
        "        with torch.no_grad():\n",
        "            outputs = bert_model(input_ids=input_ids, attention_mask=attention_mask)\n",
        "            cls_embeddings = outputs.last_hidden_state[:, 0, :]\n",
        "            all_embeddings.append(cls_embeddings.squeeze(0))\n",
        "\n",
        "    return torch.mean(torch.stack(all_embeddings), dim=0)"
      ],
      "metadata": {
        "id": "4lKpLIRrDEn_"
      },
      "execution_count": null,
      "outputs": []
    },
    {
      "cell_type": "markdown",
      "source": [
        "## Check working"
      ],
      "metadata": {
        "id": "BZ2IWyFMOfAs"
      }
    },
    {
      "cell_type": "code",
      "source": [
        "t1 = get_sentences_embeddings('Ông Nguyễn_Khắc_Chúc đang làm_việc tại Đại_học Quốc_gia Hà_Nội . Bà Lan , vợ ông Chúc , cũng làm_việc tại đây và làm gì đó . Xin chào', bert_tokenizer, bert_model)"
      ],
      "metadata": {
        "id": "Ml2TdL3JKPuP"
      },
      "execution_count": null,
      "outputs": []
    },
    {
      "cell_type": "code",
      "source": [
        "t1.shape"
      ],
      "metadata": {
        "colab": {
          "base_uri": "https://localhost:8080/"
        },
        "id": "Xa3KaPLmdv4v",
        "outputId": "bc2de2d1-c6d1-4829-a233-8ab1c604383d"
      },
      "execution_count": null,
      "outputs": [
        {
          "output_type": "execute_result",
          "data": {
            "text/plain": [
              "torch.Size([768])"
            ]
          },
          "metadata": {},
          "execution_count": 104
        }
      ]
    },
    {
      "cell_type": "markdown",
      "source": [
        "## ViT"
      ],
      "metadata": {
        "id": "8ZtqXWZEOkmZ"
      }
    },
    {
      "cell_type": "code",
      "source": [
        "weights_ViT = ViT_B_16_Weights.DEFAULT\n",
        "model_ViT = vit_b_16(weights=weights_ViT)"
      ],
      "metadata": {
        "colab": {
          "base_uri": "https://localhost:8080/"
        },
        "id": "6z8C1OB-eOvo",
        "outputId": "17079084-f035-489c-b2ea-b5754692ca69"
      },
      "execution_count": null,
      "outputs": [
        {
          "output_type": "stream",
          "name": "stderr",
          "text": [
            "Downloading: \"https://download.pytorch.org/models/vit_b_16-c867db91.pth\" to /root/.cache/torch/hub/checkpoints/vit_b_16-c867db91.pth\n",
            "100%|██████████| 330M/330M [00:06<00:00, 51.4MB/s]\n"
          ]
        }
      ]
    },
    {
      "cell_type": "code",
      "source": [
        "def get_images_embeddings(images_path, path, weights = weights_ViT, model = model_ViT, DEVICE = 'cpu'):\n",
        "      model = model.to(DEVICE)\n",
        "      model.heads = torch.nn.Identity()\n",
        "      model.eval()\n",
        "      preprocess = weights.transforms()\n",
        "      all_embeddings = []\n",
        "      for img_file in images_path:\n",
        "          correct_path = os.path.join(path, img_file)\n",
        "          img = Image.open(correct_path).convert('RGB')\n",
        "          img_tensor = preprocess(img).unsqueeze(0).to(DEVICE)\n",
        "          with torch.no_grad():\n",
        "              embedding = model(img_tensor)\n",
        "              all_embeddings.append(embedding.squeeze(0))\n",
        "\n",
        "      return torch.mean(torch.stack(all_embeddings), dim=0)"
      ],
      "metadata": {
        "id": "6pQHQH9NGgYV"
      },
      "execution_count": null,
      "outputs": []
    },
    {
      "cell_type": "markdown",
      "source": [
        "## Check working"
      ],
      "metadata": {
        "id": "P4rVZiptObHl"
      }
    },
    {
      "cell_type": "code",
      "source": [
        "images_path = ['000000000000000.jpg', '000000000000001.jpg', '000000000000003.jpg']"
      ],
      "metadata": {
        "id": "dgyNbnajL6bm"
      },
      "execution_count": null,
      "outputs": []
    },
    {
      "cell_type": "code",
      "source": [
        "get_images_embeddings(images_path).shape"
      ],
      "metadata": {
        "colab": {
          "base_uri": "https://localhost:8080/"
        },
        "id": "Nw5pYcvQNHlF",
        "outputId": "27073cfa-619a-406f-d240-175f7bf2abb3"
      },
      "execution_count": null,
      "outputs": [
        {
          "output_type": "execute_result",
          "data": {
            "text/plain": [
              "torch.Size([768])"
            ]
          },
          "metadata": {},
          "execution_count": 100
        }
      ]
    },
    {
      "cell_type": "markdown",
      "source": [
        "## Get embedding of train, dev, test file for text embeddings"
      ],
      "metadata": {
        "id": "HlvTdMRYO-e8"
      }
    },
    {
      "cell_type": "code",
      "source": [
        "train_path = '/content/drive/MyDrive/Colab Notebooks/MCAN_Data/wseg_train_news.json'\n",
        "dev_path = '/content/drive/MyDrive/Colab Notebooks/MCAN_Data/wseg_dev_news.json'\n",
        "test_path = '/content/drive/MyDrive/Colab Notebooks/MCAN_Data/wseg_test_news.json'"
      ],
      "metadata": {
        "id": "fQmbRGJRO98w"
      },
      "execution_count": null,
      "outputs": []
    },
    {
      "cell_type": "code",
      "source": [
        "train_labels = []\n",
        "dev_labels = []\n",
        "test_labels = []"
      ],
      "metadata": {
        "id": "Vld4a0njb7GR"
      },
      "execution_count": null,
      "outputs": []
    },
    {
      "cell_type": "code",
      "source": [
        "with open(train_path, 'r', encoding='utf-8') as f:\n",
        "  json_data_train = json.load(f)\n",
        "for doc_id, doc_content in json_data_train.items():\n",
        "  train_labels.append(doc_content['section'])\n",
        "\n",
        "with open(dev_path, 'r', encoding='utf-8') as f:\n",
        "  json_data_dev = json.load(f)\n",
        "for doc_id, doc_content in json_data_dev.items():\n",
        "  dev_labels.append(doc_content['section'])\n",
        "\n",
        "with open(test_path, 'r', encoding='utf-8') as f:\n",
        "  json_data_test = json.load(f)\n",
        "for doc_id, doc_content in json_data_test.items():\n",
        "  test_labels.append(doc_content['section'])"
      ],
      "metadata": {
        "id": "Y0kfrpICcLnv"
      },
      "execution_count": null,
      "outputs": []
    },
    {
      "cell_type": "markdown",
      "source": [
        "### Extract embedding for training set"
      ],
      "metadata": {
        "id": "l4PuJWvRWriZ"
      }
    },
    {
      "cell_type": "code",
      "source": [
        "text_embedding_train = []\n",
        "for doc_id, doc_content in tqdm(json_data_train.items(), desc = 'Processing training set'):\n",
        "  context = ' '.join(doc_content['context'])\n",
        "  bert_embedding = get_sentences_embeddings(context, bert_tokenizer, bert_model, device)\n",
        "  text_embedding_train.append(bert_embedding)\n",
        "text_embedding_train = torch.stack(text_embedding_train)"
      ],
      "metadata": {
        "colab": {
          "base_uri": "https://localhost:8080/"
        },
        "id": "VJCZf_PHbZ1Y",
        "outputId": "575b79f6-39b7-4b04-87cf-96d2dc60759e"
      },
      "execution_count": null,
      "outputs": [
        {
          "output_type": "stream",
          "name": "stderr",
          "text": [
            "Processing training set: 100%|██████████| 12303/12303 [3:45:02<00:00,  1.10s/it]\n"
          ]
        }
      ]
    },
    {
      "cell_type": "code",
      "source": [
        "torch.save(text_embedding_train, 'text_embedding_train.pt')"
      ],
      "metadata": {
        "id": "gKzpU1t1xAYe"
      },
      "execution_count": null,
      "outputs": []
    },
    {
      "cell_type": "code",
      "source": [
        "!cp text_embedding_train.pt '/content/drive/MyDrive/Colab Notebooks/MCAN_Data/'"
      ],
      "metadata": {
        "id": "63Mv26SsxBgz"
      },
      "execution_count": null,
      "outputs": []
    },
    {
      "cell_type": "markdown",
      "source": [
        "### Extract embedding for dev set"
      ],
      "metadata": {
        "id": "v32-NQJpXA3u"
      }
    },
    {
      "cell_type": "code",
      "source": [
        "with open(dev_path, 'r', encoding='utf-8') as f:\n",
        "  json_data_dev = json.load(f)"
      ],
      "metadata": {
        "id": "GReWEkFpXE0e"
      },
      "execution_count": null,
      "outputs": []
    },
    {
      "cell_type": "code",
      "source": [
        "text_embedding_dev = []\n",
        "for doc_id, doc_content in tqdm(json_data_dev.items(), desc = 'Processing dev set'):\n",
        "  context = ' '.join(doc_content['context'])\n",
        "  bert_embedding = get_sentences_embeddings(context, bert_tokenizer, bert_model, device)\n",
        "  text_embedding_dev.append(bert_embedding)\n",
        "text_embedding_dev = torch.stack(text_embedding_dev)"
      ],
      "metadata": {
        "colab": {
          "base_uri": "https://localhost:8080/"
        },
        "id": "1-6AUyG6fIjH",
        "outputId": "80bebe3e-51a1-4ca3-f4d5-9fdf888ef1e7"
      },
      "execution_count": null,
      "outputs": [
        {
          "output_type": "stream",
          "name": "stderr",
          "text": [
            "Processing dev set: 100%|██████████| 2675/2675 [48:34<00:00,  1.09s/it]\n"
          ]
        }
      ]
    },
    {
      "cell_type": "code",
      "source": [
        "torch.save(text_embedding_dev, 'text_embedding_dev.pt')"
      ],
      "metadata": {
        "id": "-dXErHvQw9Go"
      },
      "execution_count": null,
      "outputs": []
    },
    {
      "cell_type": "code",
      "source": [
        "!cp text_embedding_dev.pt '/content/drive/MyDrive/Colab Notebooks/MCAN_Data/'"
      ],
      "metadata": {
        "id": "H2g79Oigw_K4"
      },
      "execution_count": null,
      "outputs": []
    },
    {
      "cell_type": "markdown",
      "source": [
        "### Extract embedding for test set"
      ],
      "metadata": {
        "id": "8duwQVl_XJiT"
      }
    },
    {
      "cell_type": "code",
      "source": [
        "with open(test_path, 'r', encoding='utf-8') as f:\n",
        "  json_data_test = json.load(f)"
      ],
      "metadata": {
        "id": "pmIKXwVsXL4Y"
      },
      "execution_count": null,
      "outputs": []
    },
    {
      "cell_type": "code",
      "source": [
        "text_embedding_test = []\n",
        "for doc_id, doc_content in tqdm(json_data_test.items(), desc = 'Processing test set'):\n",
        "  context = ' '.join(doc_content['context'])\n",
        "  bert_embedding = get_sentences_embeddings(context, bert_tokenizer, bert_model, device)\n",
        "  text_embedding_test.append(bert_embedding)\n",
        "text_embedding_test = torch.stack(text_embedding_test)"
      ],
      "metadata": {
        "colab": {
          "base_uri": "https://localhost:8080/"
        },
        "id": "xb1if3ObfJf3",
        "outputId": "531381be-9ce4-4f21-ca15-e0047ba13b49"
      },
      "execution_count": null,
      "outputs": [
        {
          "output_type": "stream",
          "name": "stderr",
          "text": [
            "Processing test set: 100%|██████████| 2656/2656 [52:00<00:00,  1.18s/it]\n"
          ]
        }
      ]
    },
    {
      "cell_type": "code",
      "source": [
        "torch.save(text_embedding_test, 'text_embedding_test.pt')"
      ],
      "metadata": {
        "id": "oCbarkhrp7fE"
      },
      "execution_count": null,
      "outputs": []
    },
    {
      "cell_type": "code",
      "source": [
        "!cp text_embedding_test.pt '/content/drive/MyDrive/Colab Notebooks/MCAN_Data/'"
      ],
      "metadata": {
        "id": "qHnWU9lnvm2d"
      },
      "execution_count": null,
      "outputs": []
    },
    {
      "cell_type": "markdown",
      "source": [
        "## Get embedding of train, dev, test file for images embeddings"
      ],
      "metadata": {
        "id": "8mOVmLEXgN6i"
      }
    },
    {
      "cell_type": "markdown",
      "source": [
        "### Extract embedding for training set"
      ],
      "metadata": {
        "id": "zINRTNSAgts7"
      }
    },
    {
      "cell_type": "code",
      "source": [
        "import zipfile\n",
        "import os\n",
        "\n",
        "zip_path = '/content/drive/MyDrive/Colab Notebooks/MCAN_Data/images/images_train.zip'\n",
        "destination_path = '/content/drive/MyDrive/Colab Notebooks/MCAN_Data/images/images_train'\n",
        "\n",
        "\n",
        "with zipfile.ZipFile(zip_path, 'r') as zip_ref:\n",
        "    zip_ref.extractall(destination_path)\n",
        "\n",
        "print(f\"Files extracted to {destination_path}\")"
      ],
      "metadata": {
        "colab": {
          "base_uri": "https://localhost:8080/"
        },
        "id": "ptlvM6ONwhjl",
        "outputId": "52b64ce5-ba01-4144-db7b-09e59abdb2cf"
      },
      "execution_count": null,
      "outputs": [
        {
          "output_type": "stream",
          "name": "stdout",
          "text": [
            "Files extracted to /content/drive/MyDrive/Colab Notebooks/MCAN_Data/images/images_train\n"
          ]
        }
      ]
    },
    {
      "cell_type": "code",
      "source": [
        "image_embedding_train = []\n",
        "for doc_id, doc_content in tqdm(json_data_train.items(), desc = 'Processing training set'):\n",
        "  images_path = []\n",
        "  for img_data in doc_content['images']:\n",
        "    img_path = img_data['path']\n",
        "    images_path.append(img_path)\n",
        "  image_embedding = get_images_embeddings(images_path = images_path, path = '/content/drive/MyDrive/Colab Notebooks/MCAN_Data/images/images_train/images_train', DEVICE = device)\n",
        "  image_embedding_train.append(image_embedding)\n",
        "image_embedding_train = torch.stack(image_embedding_train)"
      ],
      "metadata": {
        "colab": {
          "base_uri": "https://localhost:8080/"
        },
        "id": "eiiE7267gNcC",
        "outputId": "fcc58eeb-1b48-49dd-824d-0141c82d2fe7"
      },
      "execution_count": null,
      "outputs": [
        {
          "output_type": "stream",
          "name": "stderr",
          "text": [
            "Processing training set:  18%|█▊        | 2164/12303 [09:19<06:06, 27.69it/s]/usr/local/lib/python3.10/dist-packages/PIL/Image.py:3406: DecompressionBombWarning: Image size (101756928 pixels) exceeds limit of 89478485 pixels, could be decompression bomb DOS attack.\n",
            "  warnings.warn(\n",
            "Processing training set: 100%|██████████| 12303/12303 [18:57<00:00, 10.82it/s]\n"
          ]
        }
      ]
    },
    {
      "cell_type": "code",
      "source": [
        "torch.save(image_embedding_train, 'image_embedding_train.pt')"
      ],
      "metadata": {
        "id": "2zATP0RGKfYE"
      },
      "execution_count": null,
      "outputs": []
    },
    {
      "cell_type": "code",
      "source": [
        "from google.colab import files\n",
        "files.download('image_embedding_train.pt')"
      ],
      "metadata": {
        "colab": {
          "base_uri": "https://localhost:8080/",
          "height": 17
        },
        "id": "tWGUhUVoj6eB",
        "outputId": "8757c843-937d-4fb6-de35-805ff500eb18"
      },
      "execution_count": null,
      "outputs": [
        {
          "output_type": "display_data",
          "data": {
            "text/plain": [
              "<IPython.core.display.Javascript object>"
            ],
            "application/javascript": [
              "\n",
              "    async function download(id, filename, size) {\n",
              "      if (!google.colab.kernel.accessAllowed) {\n",
              "        return;\n",
              "      }\n",
              "      const div = document.createElement('div');\n",
              "      const label = document.createElement('label');\n",
              "      label.textContent = `Downloading \"${filename}\": `;\n",
              "      div.appendChild(label);\n",
              "      const progress = document.createElement('progress');\n",
              "      progress.max = size;\n",
              "      div.appendChild(progress);\n",
              "      document.body.appendChild(div);\n",
              "\n",
              "      const buffers = [];\n",
              "      let downloaded = 0;\n",
              "\n",
              "      const channel = await google.colab.kernel.comms.open(id);\n",
              "      // Send a message to notify the kernel that we're ready.\n",
              "      channel.send({})\n",
              "\n",
              "      for await (const message of channel.messages) {\n",
              "        // Send a message to notify the kernel that we're ready.\n",
              "        channel.send({})\n",
              "        if (message.buffers) {\n",
              "          for (const buffer of message.buffers) {\n",
              "            buffers.push(buffer);\n",
              "            downloaded += buffer.byteLength;\n",
              "            progress.value = downloaded;\n",
              "          }\n",
              "        }\n",
              "      }\n",
              "      const blob = new Blob(buffers, {type: 'application/binary'});\n",
              "      const a = document.createElement('a');\n",
              "      a.href = window.URL.createObjectURL(blob);\n",
              "      a.download = filename;\n",
              "      div.appendChild(a);\n",
              "      a.click();\n",
              "      div.remove();\n",
              "    }\n",
              "  "
            ]
          },
          "metadata": {}
        },
        {
          "output_type": "display_data",
          "data": {
            "text/plain": [
              "<IPython.core.display.Javascript object>"
            ],
            "application/javascript": [
              "download(\"download_f7eecf35-888e-4500-abb1-9f853e1f1419\", \"image_embedding_train.pt\", 37796066)"
            ]
          },
          "metadata": {}
        }
      ]
    },
    {
      "cell_type": "code",
      "source": [
        "!cp 'image_embedding_train.pt' -d '/content/drive/MyDrive/Colab Notebooks/MCAN_Data/'"
      ],
      "metadata": {
        "id": "bN_BHrmHKioT"
      },
      "execution_count": null,
      "outputs": []
    },
    {
      "cell_type": "code",
      "source": [
        "image_embedding_train.shape"
      ],
      "metadata": {
        "colab": {
          "base_uri": "https://localhost:8080/"
        },
        "id": "EW0T_wwVi8mO",
        "outputId": "a6ce2620-936e-4649-96cb-f07591d416f8"
      },
      "execution_count": null,
      "outputs": [
        {
          "output_type": "execute_result",
          "data": {
            "text/plain": [
              "torch.Size([12303, 768])"
            ]
          },
          "metadata": {},
          "execution_count": 15
        }
      ]
    },
    {
      "cell_type": "markdown",
      "source": [
        "### Extract embedding for dev set"
      ],
      "metadata": {
        "id": "RGP4pJlWgvBz"
      }
    },
    {
      "cell_type": "code",
      "source": [
        "image_embedding_dev = []\n",
        "for doc_id, doc_content in tqdm(json_data_dev.items(), desc = 'Processing dev set'):\n",
        "  images_path = []\n",
        "  for img_data in doc_content['images']:\n",
        "    img_path = img_data['path']\n",
        "    images_path.append(img_path)\n",
        "  image_embedding = get_images_embeddings(images_path = images_path, path = '/content/drive/MyDrive/Colab Notebooks/MCAN_Data/images/images_dev', DEVICE = device)\n",
        "  image_embedding_dev.append(image_embedding)\n",
        "image_embedding_dev = torch.stack(image_embedding_dev)"
      ],
      "metadata": {
        "colab": {
          "base_uri": "https://localhost:8080/"
        },
        "id": "oRIN7YWjgwp1",
        "outputId": "96c2fd4a-f5f3-410a-82c9-c509bd3bb529"
      },
      "execution_count": null,
      "outputs": [
        {
          "output_type": "stream",
          "name": "stderr",
          "text": [
            "Processing dev set: 100%|██████████| 2675/2675 [42:17<00:00,  1.05it/s]\n"
          ]
        }
      ]
    },
    {
      "cell_type": "code",
      "source": [
        "torch.save(image_embedding_dev, 'image_embedding_dev.pt')"
      ],
      "metadata": {
        "id": "4AP9kJziKlSX"
      },
      "execution_count": null,
      "outputs": []
    },
    {
      "cell_type": "code",
      "source": [
        "!cp image_embedding_dev.pt '/content/drive/MyDrive/Colab Notebooks/MCAN_Data/'"
      ],
      "metadata": {
        "id": "DZLwRO8iKmMh"
      },
      "execution_count": null,
      "outputs": []
    },
    {
      "cell_type": "markdown",
      "source": [
        "### Extracting embedding for test set"
      ],
      "metadata": {
        "id": "eu5Z1xEMgxYj"
      }
    },
    {
      "cell_type": "code",
      "source": [
        "image_embedding_test = []\n",
        "for doc_id, doc_content in tqdm(json_data_test.items(), desc = 'Processing test set'):\n",
        "  images_path = []\n",
        "  for img_data in doc_content['images']:\n",
        "    img_path = img_data['path']\n",
        "    images_path.append(img_path)\n",
        "  image_embedding = get_images_embeddings(images_path = images_path, path = '/content/drive/MyDrive/Colab Notebooks/MCAN_Data/images/images_test', DEVICE = device)\n",
        "  image_embedding_test.append(image_embedding)\n",
        "image_embedding_test = torch.stack(image_embedding_test)"
      ],
      "metadata": {
        "colab": {
          "base_uri": "https://localhost:8080/"
        },
        "id": "iESS6zUWgw-b",
        "outputId": "7286cf82-d067-48e1-88b0-da935a67dafd"
      },
      "execution_count": null,
      "outputs": [
        {
          "output_type": "stream",
          "name": "stderr",
          "text": [
            "Processing test set: 100%|██████████| 2656/2656 [33:07<00:00,  1.34it/s]\n"
          ]
        }
      ]
    },
    {
      "cell_type": "code",
      "source": [
        "torch.save(image_embedding_test, 'image_embedding_test.pt')"
      ],
      "metadata": {
        "id": "-5r23s9LKnwt"
      },
      "execution_count": null,
      "outputs": []
    },
    {
      "cell_type": "code",
      "source": [
        "!cp image_embedding_test.pt '/content/drive/MyDrive/Colab Notebooks/MCAN_Data/'"
      ],
      "metadata": {
        "id": "-_aPg6CNKopk"
      },
      "execution_count": null,
      "outputs": []
    },
    {
      "cell_type": "markdown",
      "source": [
        "# Create Dataset:"
      ],
      "metadata": {
        "id": "P9e8fJcshx5Y"
      }
    },
    {
      "cell_type": "code",
      "source": [
        "class NewspaperDataset:\n",
        "    def __init__(self, embeddings, labels):\n",
        "        self.embeddings = embeddings\n",
        "        self.labels = labels\n",
        "\n",
        "    def __len__(self):\n",
        "        return len(self.embeddings)\n",
        "\n",
        "    def __getitem__(self, index):\n",
        "        return {\n",
        "            'embedding': self.embeddings[index],\n",
        "            'label': torch.tensor(self.labels[index])\n",
        "        }"
      ],
      "metadata": {
        "id": "N9Cnm5hihucr"
      },
      "execution_count": null,
      "outputs": []
    },
    {
      "cell_type": "code",
      "source": [
        "label_encoder = LabelEncoder()\n",
        "train_labels = label_encoder.fit_transform(train_labels)\n",
        "dev_labels = label_encoder.transform(dev_labels)\n",
        "test_labels = label_encoder.transform(test_labels)"
      ],
      "metadata": {
        "id": "ZjKJKDNfjyGJ"
      },
      "execution_count": null,
      "outputs": []
    },
    {
      "cell_type": "code",
      "source": [
        "len(train_labels), len(dev_labels), len(test_labels)"
      ],
      "metadata": {
        "colab": {
          "base_uri": "https://localhost:8080/"
        },
        "id": "loLjKtop1PF7",
        "outputId": "bc1668db-c82f-44d6-d8f3-1c808ea73030"
      },
      "execution_count": null,
      "outputs": [
        {
          "output_type": "execute_result",
          "data": {
            "text/plain": [
              "(12303, 2675, 2656)"
            ]
          },
          "metadata": {},
          "execution_count": 9
        }
      ]
    },
    {
      "cell_type": "code",
      "source": [
        "label_encoder.classes_"
      ],
      "metadata": {
        "colab": {
          "base_uri": "https://localhost:8080/"
        },
        "id": "owD-ujw_9z1R",
        "outputId": "6e0b54dd-101c-41d9-a62f-97abb9e51666"
      },
      "execution_count": null,
      "outputs": [
        {
          "output_type": "execute_result",
          "data": {
            "text/plain": [
              "array(['Bất động sản', 'Công nghệ', 'Công đoàn', 'Du lịch', 'Giáo dục',\n",
              "       'Giải trí - Thư giãn', 'Giới trẻ', 'Khoa học', 'Kinh tế',\n",
              "       'Pháp luật', 'Sức khoẻ - Tình yêu', 'Thế giới', 'Thời sự',\n",
              "       'Việc làm', 'Văn hoá - Thế thao', 'Xe', 'Đời sống - Xã hội'],\n",
              "      dtype='<U19')"
            ]
          },
          "metadata": {},
          "execution_count": 10
        }
      ]
    },
    {
      "cell_type": "code",
      "source": [
        "label_encoder.classes_.shape"
      ],
      "metadata": {
        "colab": {
          "base_uri": "https://localhost:8080/"
        },
        "id": "HZB7xQWTC9C9",
        "outputId": "f15a4b9f-9141-4a79-a179-55577718ff14"
      },
      "execution_count": null,
      "outputs": [
        {
          "output_type": "execute_result",
          "data": {
            "text/plain": [
              "(17,)"
            ]
          },
          "metadata": {},
          "execution_count": 11
        }
      ]
    },
    {
      "cell_type": "markdown",
      "source": [
        "# Model Construction"
      ],
      "metadata": {
        "id": "d9rIHUwdkVTz"
      }
    },
    {
      "cell_type": "markdown",
      "source": [
        "## Text Model"
      ],
      "metadata": {
        "id": "ta-CQV-MkYkK"
      }
    },
    {
      "cell_type": "code",
      "source": [
        "class TextModel(nn.Module):\n",
        "    def __init__(self, embedding_dim=768, num_classes = 17):\n",
        "        super(TextModel, self).__init__()\n",
        "        self.embedding_dim = embedding_dim\n",
        "        self.classifier = nn.Sequential(\n",
        "            nn.Linear(embedding_dim, 512),\n",
        "            nn.ReLU(),\n",
        "            nn.Dropout(0.5),\n",
        "            nn.BatchNorm1d(512),\n",
        "            nn.Linear(512, 256),\n",
        "            nn.ReLU(),\n",
        "            nn.Dropout(0.3),\n",
        "            nn.BatchNorm1d(256),\n",
        "            nn.Linear(256, num_classes)\n",
        "        )\n",
        "\n",
        "    def forward(self, embedding):\n",
        "        return self.classifier(embedding)"
      ],
      "metadata": {
        "id": "4YwjcuJgkXlR"
      },
      "execution_count": null,
      "outputs": []
    },
    {
      "cell_type": "markdown",
      "source": [
        "## Vision Model"
      ],
      "metadata": {
        "id": "I9XDv-ROkaxc"
      }
    },
    {
      "cell_type": "code",
      "source": [
        "class VisionModel(nn.Module):\n",
        "    def __init__(self, embedding_dim=768, num_classes = 17):\n",
        "        super(VisionModel, self).__init__()\n",
        "        self.embedding_dim = embedding_dim\n",
        "        self.classifier = nn.Sequential(\n",
        "            nn.Linear(embedding_dim, 512),\n",
        "            nn.ReLU(),\n",
        "            nn.Dropout(0.5),\n",
        "            nn.BatchNorm1d(512),\n",
        "            nn.Linear(512, 256),\n",
        "            nn.ReLU(),\n",
        "            nn.Dropout(0.3),\n",
        "            nn.BatchNorm1d(256),\n",
        "            nn.Linear(256, num_classes)\n",
        "        )\n",
        "\n",
        "    def forward(self, embedding):\n",
        "        return self.classifier(embedding)"
      ],
      "metadata": {
        "id": "B7MLxuugkcaX"
      },
      "execution_count": null,
      "outputs": []
    },
    {
      "cell_type": "markdown",
      "source": [
        "## Multimodal Model"
      ],
      "metadata": {
        "id": "Hze3qSxGkdW3"
      }
    },
    {
      "cell_type": "code",
      "source": [
        "class MultimodalFusionModule(nn.Module):\n",
        "    def __init__(\n",
        "        self,\n",
        "        text_dim,\n",
        "        image_dim,\n",
        "        hidden_dim=512,\n",
        "        num_classes=17,\n",
        "        dropout=0.3,\n",
        "        fusion_type=\"concat\"\n",
        "    ):\n",
        "        super().__init__()\n",
        "\n",
        "        self.fusion_type = fusion_type\n",
        "\n",
        "        # Projection layers\n",
        "        self.text_projection = nn.Linear(text_dim, hidden_dim)\n",
        "        self.image_projection = nn.Linear(image_dim, hidden_dim)\n",
        "\n",
        "        # Attention fusion layers\n",
        "        if fusion_type == \"attention\":\n",
        "            self.attention = nn.MultiheadAttention(\n",
        "                embed_dim=hidden_dim,\n",
        "                num_heads=8,\n",
        "                dropout=dropout,\n",
        "                batch_first=True\n",
        "            )\n",
        "            self.fusion_dim = hidden_dim\n",
        "        else:\n",
        "            self.fusion_dim = hidden_dim * 2 if fusion_type == \"concat\" else hidden_dim\n",
        "\n",
        "        self.classifier = nn.Sequential(\n",
        "            nn.Linear(self.fusion_dim, hidden_dim),\n",
        "            nn.ReLU(),\n",
        "            nn.Dropout(dropout),\n",
        "            nn.Linear(hidden_dim, hidden_dim // 2),\n",
        "            nn.ReLU(),\n",
        "            nn.Dropout(dropout),\n",
        "            nn.Linear(hidden_dim // 2, num_classes)\n",
        "        )\n",
        "\n",
        "        self.dropout = nn.Dropout(dropout)\n",
        "\n",
        "    def forward(self, text_features, image_features):\n",
        "\n",
        "        text_proj = self.text_projection(text_features)\n",
        "        image_proj = self.image_projection(image_features)\n",
        "\n",
        "        # Apply fusion strategy\n",
        "        if self.fusion_type == \"concat\":\n",
        "            fused_features = torch.cat([text_proj, image_proj], dim=1)\n",
        "\n",
        "        elif self.fusion_type == \"sum\":\n",
        "            fused_features = text_proj + image_proj\n",
        "\n",
        "        elif self.fusion_type == \"attention\":\n",
        "            text_proj = text_proj.unsqueeze(1)\n",
        "            image_proj = image_proj.unsqueeze(1)\n",
        "\n",
        "            fused_features, _ = self.attention(\n",
        "                text_proj,\n",
        "                image_proj,\n",
        "                image_proj\n",
        "            )\n",
        "            fused_features = fused_features.squeeze(1)\n",
        "\n",
        "        fused_features = self.dropout(fused_features)\n",
        "        logits = self.classifier(fused_features)\n",
        "\n",
        "        return logits"
      ],
      "metadata": {
        "id": "QA6oqidkkfRi"
      },
      "execution_count": null,
      "outputs": []
    },
    {
      "cell_type": "markdown",
      "source": [
        "# Model training and evaluating"
      ],
      "metadata": {
        "id": "LQhd_bPDfQqm"
      }
    },
    {
      "cell_type": "code",
      "source": [
        "def train_model(model, train_loader, criterion, optimizer, num_epochs=10):\n",
        "    model.train()\n",
        "    for epoch in range(num_epochs):\n",
        "        running_loss = 0.0\n",
        "        for batch in tqdm(train_loader, desc = 'Training'):\n",
        "            inputs = batch['embedding']\n",
        "            labels = batch['label']\n",
        "\n",
        "            inputs, labels = inputs.to(device), labels.to(device)\n",
        "\n",
        "            optimizer.zero_grad()\n",
        "            outputs = model(inputs)\n",
        "            loss = criterion(outputs, labels)\n",
        "            loss.backward()\n",
        "            optimizer.step()\n",
        "\n",
        "            running_loss += loss.item()\n",
        "\n",
        "        print(f\"Epoch [{epoch+1}/{num_epochs}], Loss: {running_loss/len(train_loader):.4f}\")\n",
        "    print(\"Training complete.\")"
      ],
      "metadata": {
        "id": "ZGFQMD7eiSIL"
      },
      "execution_count": null,
      "outputs": []
    },
    {
      "cell_type": "code",
      "source": [
        "def evaluate_model(model, val_loader, criterion):\n",
        "    model.eval()\n",
        "    correct = 0\n",
        "    total = 0\n",
        "    val_loss = 0.0\n",
        "    all_preds = []\n",
        "    all_labels = []\n",
        "\n",
        "    with torch.no_grad():\n",
        "        for batch in tqdm(val_loader, desc = 'Evaluating'):\n",
        "            inputs = batch['embedding'].to(device)\n",
        "            labels = batch['label'].to(device)\n",
        "\n",
        "            outputs = model(inputs)\n",
        "            loss = criterion(outputs, labels)\n",
        "\n",
        "            val_loss += loss.item()\n",
        "            _, predicted = torch.max(outputs, 1)\n",
        "\n",
        "            total += labels.size(0)\n",
        "            correct += (predicted == labels).sum().item()\n",
        "\n",
        "            all_preds.extend(predicted.cpu().numpy())\n",
        "            all_labels.extend(labels.cpu().numpy())\n",
        "\n",
        "    accuracy = 100 * correct / total\n",
        "    print(f\"Validation Loss: {val_loss/len(val_loader):.4f}, Accuracy: {accuracy:.2f}%\")\n",
        "    return accuracy, all_preds, all_labels"
      ],
      "metadata": {
        "id": "0XcVpe572pfs"
      },
      "execution_count": null,
      "outputs": []
    },
    {
      "cell_type": "markdown",
      "source": [
        "## Text Classification Training and Evaluating"
      ],
      "metadata": {
        "id": "qDJ-ustciTkM"
      }
    },
    {
      "cell_type": "markdown",
      "source": [
        "Get embedding file"
      ],
      "metadata": {
        "id": "qXW_DXocDIg4"
      }
    },
    {
      "cell_type": "code",
      "source": [
        "text_embedding_train = torch.load('/content/drive/MyDrive/Colab Notebooks/MCAN_Data/text_embedding_train.pt')\n",
        "text_embedding_dev = torch.load('/content/drive/MyDrive/Colab Notebooks/MCAN_Data/text_embedding_dev.pt')\n",
        "text_embedding_test = torch.load('/content/drive/MyDrive/Colab Notebooks/MCAN_Data/text_embedding_test.pt')"
      ],
      "metadata": {
        "colab": {
          "base_uri": "https://localhost:8080/"
        },
        "id": "rWmf7d5WDHqH",
        "outputId": "c989a933-2523-4774-9fe7-ffc3b25093fb"
      },
      "execution_count": null,
      "outputs": [
        {
          "output_type": "stream",
          "name": "stderr",
          "text": [
            "<ipython-input-22-4eeca87b37b1>:1: FutureWarning: You are using `torch.load` with `weights_only=False` (the current default value), which uses the default pickle module implicitly. It is possible to construct malicious pickle data which will execute arbitrary code during unpickling (See https://github.com/pytorch/pytorch/blob/main/SECURITY.md#untrusted-models for more details). In a future release, the default value for `weights_only` will be flipped to `True`. This limits the functions that could be executed during unpickling. Arbitrary objects will no longer be allowed to be loaded via this mode unless they are explicitly allowlisted by the user via `torch.serialization.add_safe_globals`. We recommend you start setting `weights_only=True` for any use case where you don't have full control of the loaded file. Please open an issue on GitHub for any issues related to this experimental feature.\n",
            "  text_embedding_train = torch.load('/content/drive/MyDrive/Colab Notebooks/MCAN_Data/text_embedding_train.pt')\n",
            "<ipython-input-22-4eeca87b37b1>:2: FutureWarning: You are using `torch.load` with `weights_only=False` (the current default value), which uses the default pickle module implicitly. It is possible to construct malicious pickle data which will execute arbitrary code during unpickling (See https://github.com/pytorch/pytorch/blob/main/SECURITY.md#untrusted-models for more details). In a future release, the default value for `weights_only` will be flipped to `True`. This limits the functions that could be executed during unpickling. Arbitrary objects will no longer be allowed to be loaded via this mode unless they are explicitly allowlisted by the user via `torch.serialization.add_safe_globals`. We recommend you start setting `weights_only=True` for any use case where you don't have full control of the loaded file. Please open an issue on GitHub for any issues related to this experimental feature.\n",
            "  text_embedding_dev = torch.load('/content/drive/MyDrive/Colab Notebooks/MCAN_Data/text_embedding_dev.pt')\n",
            "<ipython-input-22-4eeca87b37b1>:3: FutureWarning: You are using `torch.load` with `weights_only=False` (the current default value), which uses the default pickle module implicitly. It is possible to construct malicious pickle data which will execute arbitrary code during unpickling (See https://github.com/pytorch/pytorch/blob/main/SECURITY.md#untrusted-models for more details). In a future release, the default value for `weights_only` will be flipped to `True`. This limits the functions that could be executed during unpickling. Arbitrary objects will no longer be allowed to be loaded via this mode unless they are explicitly allowlisted by the user via `torch.serialization.add_safe_globals`. We recommend you start setting `weights_only=True` for any use case where you don't have full control of the loaded file. Please open an issue on GitHub for any issues related to this experimental feature.\n",
            "  text_embedding_test = torch.load('/content/drive/MyDrive/Colab Notebooks/MCAN_Data/text_embedding_test.pt')\n"
          ]
        }
      ]
    },
    {
      "cell_type": "code",
      "source": [
        "# Tạo dataset và dataloader\n",
        "dataset_train = NewspaperDataset(text_embedding_train, train_labels)\n",
        "dataset_dev = NewspaperDataset(text_embedding_dev, dev_labels)\n",
        "dataset_test = NewspaperDataset(text_embedding_test, test_labels)\n",
        "\n",
        "dataloader_train = DataLoader(dataset_train, batch_size=16, shuffle=True)\n",
        "dataloader_dev = DataLoader(dataset_dev, batch_size=16, shuffle=True)\n",
        "dataloader_test = DataLoader(dataset_test, batch_size=16, shuffle=True)"
      ],
      "metadata": {
        "id": "2dZ1-PJKiFUl"
      },
      "execution_count": null,
      "outputs": []
    },
    {
      "cell_type": "code",
      "source": [
        "text_model = TextModel().to(device)"
      ],
      "metadata": {
        "id": "VTWwttkCx0MA"
      },
      "execution_count": null,
      "outputs": []
    },
    {
      "cell_type": "code",
      "source": [
        "loss_fn = nn.CrossEntropyLoss()\n",
        "optimizer = torch.optim.Adam(text_model.parameters(), lr=1e-4)"
      ],
      "metadata": {
        "id": "VAwrSuQ7xneY"
      },
      "execution_count": null,
      "outputs": []
    },
    {
      "cell_type": "code",
      "source": [
        "train_model(text_model, dataloader_train, loss_fn, optimizer, num_epochs=10)\n",
        "accuracy, predictions, true_labels = evaluate_model(text_model, dataloader_dev, loss_fn)"
      ],
      "metadata": {
        "colab": {
          "base_uri": "https://localhost:8080/"
        },
        "id": "SmClZQJn5kR-",
        "outputId": "46fbed50-b079-4d49-cd04-98999aae78d3"
      },
      "execution_count": null,
      "outputs": [
        {
          "output_type": "stream",
          "name": "stderr",
          "text": [
            "Training: 100%|██████████| 769/769 [00:08<00:00, 86.45it/s]\n"
          ]
        },
        {
          "output_type": "stream",
          "name": "stdout",
          "text": [
            "Epoch [1/10], Loss: 1.6777\n"
          ]
        },
        {
          "output_type": "stream",
          "name": "stderr",
          "text": [
            "Training: 100%|██████████| 769/769 [00:05<00:00, 128.78it/s]\n"
          ]
        },
        {
          "output_type": "stream",
          "name": "stdout",
          "text": [
            "Epoch [2/10], Loss: 1.1850\n"
          ]
        },
        {
          "output_type": "stream",
          "name": "stderr",
          "text": [
            "Training: 100%|██████████| 769/769 [00:07<00:00, 98.04it/s] \n"
          ]
        },
        {
          "output_type": "stream",
          "name": "stdout",
          "text": [
            "Epoch [3/10], Loss: 1.0840\n"
          ]
        },
        {
          "output_type": "stream",
          "name": "stderr",
          "text": [
            "Training: 100%|██████████| 769/769 [00:07<00:00, 106.01it/s]\n"
          ]
        },
        {
          "output_type": "stream",
          "name": "stdout",
          "text": [
            "Epoch [4/10], Loss: 1.0750\n"
          ]
        },
        {
          "output_type": "stream",
          "name": "stderr",
          "text": [
            "Training: 100%|██████████| 769/769 [00:09<00:00, 82.77it/s]\n"
          ]
        },
        {
          "output_type": "stream",
          "name": "stdout",
          "text": [
            "Epoch [5/10], Loss: 1.0470\n"
          ]
        },
        {
          "output_type": "stream",
          "name": "stderr",
          "text": [
            "Training: 100%|██████████| 769/769 [00:08<00:00, 94.47it/s]\n"
          ]
        },
        {
          "output_type": "stream",
          "name": "stdout",
          "text": [
            "Epoch [6/10], Loss: 1.0356\n"
          ]
        },
        {
          "output_type": "stream",
          "name": "stderr",
          "text": [
            "Training: 100%|██████████| 769/769 [00:09<00:00, 81.73it/s]\n"
          ]
        },
        {
          "output_type": "stream",
          "name": "stdout",
          "text": [
            "Epoch [7/10], Loss: 1.0123\n"
          ]
        },
        {
          "output_type": "stream",
          "name": "stderr",
          "text": [
            "Training: 100%|██████████| 769/769 [00:09<00:00, 80.62it/s]\n"
          ]
        },
        {
          "output_type": "stream",
          "name": "stdout",
          "text": [
            "Epoch [8/10], Loss: 1.0174\n"
          ]
        },
        {
          "output_type": "stream",
          "name": "stderr",
          "text": [
            "Training: 100%|██████████| 769/769 [00:09<00:00, 84.24it/s]\n"
          ]
        },
        {
          "output_type": "stream",
          "name": "stdout",
          "text": [
            "Epoch [9/10], Loss: 1.0161\n"
          ]
        },
        {
          "output_type": "stream",
          "name": "stderr",
          "text": [
            "Training: 100%|██████████| 769/769 [00:10<00:00, 75.41it/s]\n"
          ]
        },
        {
          "output_type": "stream",
          "name": "stdout",
          "text": [
            "Epoch [10/10], Loss: 1.0129\n",
            "Training complete.\n"
          ]
        },
        {
          "output_type": "stream",
          "name": "stderr",
          "text": [
            "Evaluating: 100%|██████████| 168/168 [00:00<00:00, 609.47it/s]"
          ]
        },
        {
          "output_type": "stream",
          "name": "stdout",
          "text": [
            "Validation Loss: 0.7909, Accuracy: 76.93%\n"
          ]
        },
        {
          "output_type": "stream",
          "name": "stderr",
          "text": [
            "\n"
          ]
        }
      ]
    },
    {
      "cell_type": "code",
      "source": [
        "# Đánh giá trên tập test\n",
        "test_accuracy, test_preds, test_labels = evaluate_model(text_model, dataloader_test, loss_fn)\n",
        "print(f\"Test Accuracy: {test_accuracy:.2f}%\")"
      ],
      "metadata": {
        "colab": {
          "base_uri": "https://localhost:8080/"
        },
        "id": "_uUqo2z79Ny1",
        "outputId": "6e962ee4-8d28-44a5-a376-121b9d3fad40"
      },
      "execution_count": null,
      "outputs": [
        {
          "output_type": "stream",
          "name": "stderr",
          "text": [
            "Evaluating: 100%|██████████| 166/166 [00:00<00:00, 718.41it/s]"
          ]
        },
        {
          "output_type": "stream",
          "name": "stdout",
          "text": [
            "Validation Loss: 0.7773, Accuracy: 76.24%\n",
            "Test Accuracy: 76.24%\n"
          ]
        },
        {
          "output_type": "stream",
          "name": "stderr",
          "text": [
            "\n"
          ]
        }
      ]
    },
    {
      "cell_type": "code",
      "source": [
        "accuracy = accuracy_score(test_labels, test_preds)\n",
        "precision = precision_score(test_labels, test_preds, average='weighted')\n",
        "recall = recall_score(test_labels, test_preds, average='weighted')\n",
        "f1 = f1_score(test_labels, test_preds, average='weighted')\n",
        "print(f\"Accuracy: {accuracy:.2f}\")\n",
        "print(f\"Precision: {precision:.2f}\")\n",
        "print(f\"Recall: {recall:.2f}\")\n",
        "print(f\"F1 Score: {f1:.2f}\")"
      ],
      "metadata": {
        "colab": {
          "base_uri": "https://localhost:8080/"
        },
        "id": "HCkjQ576GrL4",
        "outputId": "ece926bd-9a1f-44e2-e31d-fa7d8d56c3ea"
      },
      "execution_count": null,
      "outputs": [
        {
          "output_type": "stream",
          "name": "stdout",
          "text": [
            "Accuracy: 0.76\n",
            "Precision: 0.74\n",
            "Recall: 0.76\n",
            "F1 Score: 0.74\n"
          ]
        },
        {
          "output_type": "stream",
          "name": "stderr",
          "text": [
            "/usr/local/lib/python3.10/dist-packages/sklearn/metrics/_classification.py:1565: UndefinedMetricWarning: Precision is ill-defined and being set to 0.0 in labels with no predicted samples. Use `zero_division` parameter to control this behavior.\n",
            "  _warn_prf(average, modifier, f\"{metric.capitalize()} is\", len(result))\n"
          ]
        }
      ]
    },
    {
      "cell_type": "code",
      "source": [
        "# In confusion matrix\n",
        "cm = confusion_matrix(test_labels, test_preds)\n",
        "print(\"Confusion Matrix:\")\n",
        "print(cm)\n",
        "\n",
        "# In báo cáo chi tiết\n",
        "print(\"\\nClassification Report:\")\n",
        "print(classification_report(test_labels, test_preds, target_names=label_encoder.classes_))"
      ],
      "metadata": {
        "colab": {
          "base_uri": "https://localhost:8080/"
        },
        "id": "dMxgtAAp9Vgy",
        "outputId": "42de4ed9-71b4-41ce-c38f-b6132abecd2a"
      },
      "execution_count": null,
      "outputs": [
        {
          "output_type": "stream",
          "name": "stdout",
          "text": [
            "Confusion Matrix:\n",
            "[[  0   0   0   0   0   0   0   0   4   0   0   0   0   0   0   0   8]\n",
            " [  0  75   0   0   0   0   0   0   9   0   0   8   0   0   4   0   4]\n",
            " [  0   0 270   0   0   0   0   0   5   1   0   0   0   0   0   0   4]\n",
            " [  0   0   0  40   0   0   0   0   8   0   0   1   0   0   6   0   5]\n",
            " [  0   0   0   0   0   1   0   0   1   0   0   1   4   0   1   0   5]\n",
            " [  0   0   0   0   0  55   0   0   1   0   3   2   1   0  56   0   2]\n",
            " [  0   0   4   0   0   0   0   0   2   0   0   0   0   0   5   1   3]\n",
            " [  0   1   0   0   0   0   0   0   3   0   1   0   1   0   1   0   0]\n",
            " [  0  14   4   3   0   0   0   1 299   5   1   7   2   0  11   8  28]\n",
            " [  0   0   3   0   0   3   0   0   0  75   1   1   2   0   1   0  11]\n",
            " [  0   0   0   0   0   3   0   0   1   0  36   1   1   0   7   0  15]\n",
            " [  0   1   0   3   0   0   0   0   7   1   0  99   1   0   3   0   5]\n",
            " [  0   1   3   2   0   0   0   0  11   8   2  18  48   0  12   0  84]\n",
            " [  0   0   2   0   0   0   0   0   1   1   0   0   2   0   1   0  10]\n",
            " [  0   0   0   6   0  14   0   0   0   0   1   1   1   0 663   0   4]\n",
            " [  0   0   0   0   0   0   0   0   1   0   0   0   0   0   1  41   7]\n",
            " [  0   1   2   9   0   4   0   0  17   5  10   6   5   0  55   1 324]]\n",
            "\n",
            "Classification Report:\n",
            "                     precision    recall  f1-score   support\n",
            "\n",
            "       Bất động sản       0.00      0.00      0.00        12\n",
            "          Công nghệ       0.81      0.75      0.78       100\n",
            "          Công đoàn       0.94      0.96      0.95       280\n",
            "            Du lịch       0.63      0.67      0.65        60\n",
            "           Giáo dục       0.00      0.00      0.00        13\n",
            "Giải trí - Thư giãn       0.69      0.46      0.55       120\n",
            "           Giới trẻ       0.00      0.00      0.00        15\n",
            "           Khoa học       0.00      0.00      0.00         7\n",
            "            Kinh tế       0.81      0.78      0.79       383\n",
            "          Pháp luật       0.78      0.77      0.78        97\n",
            "Sức khoẻ - Tình yêu       0.65      0.56      0.61        64\n",
            "           Thế giới       0.68      0.82      0.75       120\n",
            "            Thời sự       0.71      0.25      0.37       189\n",
            "           Việc làm       0.00      0.00      0.00        17\n",
            " Văn hoá - Thế thao       0.80      0.96      0.87       690\n",
            "                 Xe       0.80      0.82      0.81        50\n",
            "  Đời sống - Xã hội       0.62      0.74      0.68       439\n",
            "\n",
            "           accuracy                           0.76      2656\n",
            "          macro avg       0.53      0.50      0.51      2656\n",
            "       weighted avg       0.74      0.76      0.74      2656\n",
            "\n"
          ]
        },
        {
          "output_type": "stream",
          "name": "stderr",
          "text": [
            "/usr/local/lib/python3.10/dist-packages/sklearn/metrics/_classification.py:1565: UndefinedMetricWarning: Precision is ill-defined and being set to 0.0 in labels with no predicted samples. Use `zero_division` parameter to control this behavior.\n",
            "  _warn_prf(average, modifier, f\"{metric.capitalize()} is\", len(result))\n",
            "/usr/local/lib/python3.10/dist-packages/sklearn/metrics/_classification.py:1565: UndefinedMetricWarning: Precision is ill-defined and being set to 0.0 in labels with no predicted samples. Use `zero_division` parameter to control this behavior.\n",
            "  _warn_prf(average, modifier, f\"{metric.capitalize()} is\", len(result))\n",
            "/usr/local/lib/python3.10/dist-packages/sklearn/metrics/_classification.py:1565: UndefinedMetricWarning: Precision is ill-defined and being set to 0.0 in labels with no predicted samples. Use `zero_division` parameter to control this behavior.\n",
            "  _warn_prf(average, modifier, f\"{metric.capitalize()} is\", len(result))\n"
          ]
        }
      ]
    },
    {
      "cell_type": "markdown",
      "source": [
        "## Image Classification Training and Evaluating"
      ],
      "metadata": {
        "id": "KZr3dzOpiahw"
      }
    },
    {
      "cell_type": "code",
      "source": [
        "image_embedding_train = torch.load('/content/drive/MyDrive/Colab Notebooks/MCAN_Data/image_embedding_train.pt')\n",
        "image_embedding_dev = torch.load('/content/drive/MyDrive/Colab Notebooks/MCAN_Data/image_embedding_dev.pt')\n",
        "image_embedding_test = torch.load('/content/drive/MyDrive/Colab Notebooks/MCAN_Data/image_embedding_test.pt')"
      ],
      "metadata": {
        "colab": {
          "base_uri": "https://localhost:8080/"
        },
        "id": "WF5ZYPqSeBcv",
        "outputId": "1a1ba68a-ef9b-470b-ba4f-b3de69374e73"
      },
      "execution_count": null,
      "outputs": [
        {
          "output_type": "stream",
          "name": "stderr",
          "text": [
            "<ipython-input-21-d0fb30adb3ae>:1: FutureWarning: You are using `torch.load` with `weights_only=False` (the current default value), which uses the default pickle module implicitly. It is possible to construct malicious pickle data which will execute arbitrary code during unpickling (See https://github.com/pytorch/pytorch/blob/main/SECURITY.md#untrusted-models for more details). In a future release, the default value for `weights_only` will be flipped to `True`. This limits the functions that could be executed during unpickling. Arbitrary objects will no longer be allowed to be loaded via this mode unless they are explicitly allowlisted by the user via `torch.serialization.add_safe_globals`. We recommend you start setting `weights_only=True` for any use case where you don't have full control of the loaded file. Please open an issue on GitHub for any issues related to this experimental feature.\n",
            "  image_embedding_train = torch.load('/content/drive/MyDrive/Colab Notebooks/MCAN_Data/image_embedding_train.pt')\n",
            "<ipython-input-21-d0fb30adb3ae>:2: FutureWarning: You are using `torch.load` with `weights_only=False` (the current default value), which uses the default pickle module implicitly. It is possible to construct malicious pickle data which will execute arbitrary code during unpickling (See https://github.com/pytorch/pytorch/blob/main/SECURITY.md#untrusted-models for more details). In a future release, the default value for `weights_only` will be flipped to `True`. This limits the functions that could be executed during unpickling. Arbitrary objects will no longer be allowed to be loaded via this mode unless they are explicitly allowlisted by the user via `torch.serialization.add_safe_globals`. We recommend you start setting `weights_only=True` for any use case where you don't have full control of the loaded file. Please open an issue on GitHub for any issues related to this experimental feature.\n",
            "  image_embedding_dev = torch.load('/content/drive/MyDrive/Colab Notebooks/MCAN_Data/image_embedding_dev.pt')\n",
            "<ipython-input-21-d0fb30adb3ae>:3: FutureWarning: You are using `torch.load` with `weights_only=False` (the current default value), which uses the default pickle module implicitly. It is possible to construct malicious pickle data which will execute arbitrary code during unpickling (See https://github.com/pytorch/pytorch/blob/main/SECURITY.md#untrusted-models for more details). In a future release, the default value for `weights_only` will be flipped to `True`. This limits the functions that could be executed during unpickling. Arbitrary objects will no longer be allowed to be loaded via this mode unless they are explicitly allowlisted by the user via `torch.serialization.add_safe_globals`. We recommend you start setting `weights_only=True` for any use case where you don't have full control of the loaded file. Please open an issue on GitHub for any issues related to this experimental feature.\n",
            "  image_embedding_test = torch.load('/content/drive/MyDrive/Colab Notebooks/MCAN_Data/image_embedding_test.pt')\n"
          ]
        }
      ]
    },
    {
      "cell_type": "code",
      "source": [
        "# Tạo dataset và dataloader\n",
        "dataset_train = NewspaperDataset(image_embedding_train, train_labels)\n",
        "dataset_dev = NewspaperDataset(image_embedding_dev, dev_labels)\n",
        "dataset_test = NewspaperDataset(image_embedding_test, test_labels)\n",
        "\n",
        "dataloader_train = DataLoader(dataset_train, batch_size=16, shuffle=True)\n",
        "dataloader_dev = DataLoader(dataset_dev, batch_size=16, shuffle=True)\n",
        "dataloader_test = DataLoader(dataset_test, batch_size=16, shuffle=True)"
      ],
      "metadata": {
        "id": "pV464yLIiaLj"
      },
      "execution_count": null,
      "outputs": []
    },
    {
      "cell_type": "code",
      "source": [
        "vision_model = VisionModel().to(device)"
      ],
      "metadata": {
        "id": "5-2Nymb1e0YT"
      },
      "execution_count": null,
      "outputs": []
    },
    {
      "cell_type": "code",
      "source": [
        "loss_fn = nn.CrossEntropyLoss()\n",
        "optimizer = torch.optim.Adam(vision_model.parameters(), lr=1e-4)"
      ],
      "metadata": {
        "id": "X4W81wsSe6SU"
      },
      "execution_count": null,
      "outputs": []
    },
    {
      "cell_type": "code",
      "source": [
        "train_model(vision_model, dataloader_train, loss_fn, optimizer, num_epochs=10)\n",
        "accuracy, predictions, true_labels = evaluate_model(vision_model, dataloader_dev, loss_fn)"
      ],
      "metadata": {
        "colab": {
          "base_uri": "https://localhost:8080/"
        },
        "id": "rmp-kbBhe919",
        "outputId": "b528403a-064e-4a30-ada9-d1c70c89c318"
      },
      "execution_count": null,
      "outputs": [
        {
          "output_type": "stream",
          "name": "stderr",
          "text": [
            "Training: 100%|██████████| 769/769 [00:03<00:00, 201.82it/s]\n"
          ]
        },
        {
          "output_type": "stream",
          "name": "stdout",
          "text": [
            "Epoch [1/10], Loss: 2.1475\n"
          ]
        },
        {
          "output_type": "stream",
          "name": "stderr",
          "text": [
            "Training: 100%|██████████| 769/769 [00:02<00:00, 352.85it/s]\n"
          ]
        },
        {
          "output_type": "stream",
          "name": "stdout",
          "text": [
            "Epoch [2/10], Loss: 1.7115\n"
          ]
        },
        {
          "output_type": "stream",
          "name": "stderr",
          "text": [
            "Training: 100%|██████████| 769/769 [00:02<00:00, 377.18it/s]\n"
          ]
        },
        {
          "output_type": "stream",
          "name": "stdout",
          "text": [
            "Epoch [3/10], Loss: 1.5781\n"
          ]
        },
        {
          "output_type": "stream",
          "name": "stderr",
          "text": [
            "Training: 100%|██████████| 769/769 [00:01<00:00, 400.05it/s]\n"
          ]
        },
        {
          "output_type": "stream",
          "name": "stdout",
          "text": [
            "Epoch [4/10], Loss: 1.4816\n"
          ]
        },
        {
          "output_type": "stream",
          "name": "stderr",
          "text": [
            "Training: 100%|██████████| 769/769 [00:02<00:00, 322.11it/s]\n"
          ]
        },
        {
          "output_type": "stream",
          "name": "stdout",
          "text": [
            "Epoch [5/10], Loss: 1.4255\n"
          ]
        },
        {
          "output_type": "stream",
          "name": "stderr",
          "text": [
            "Training: 100%|██████████| 769/769 [00:02<00:00, 323.09it/s]\n"
          ]
        },
        {
          "output_type": "stream",
          "name": "stdout",
          "text": [
            "Epoch [6/10], Loss: 1.3590\n"
          ]
        },
        {
          "output_type": "stream",
          "name": "stderr",
          "text": [
            "Training: 100%|██████████| 769/769 [00:02<00:00, 342.39it/s]\n"
          ]
        },
        {
          "output_type": "stream",
          "name": "stdout",
          "text": [
            "Epoch [7/10], Loss: 1.3232\n"
          ]
        },
        {
          "output_type": "stream",
          "name": "stderr",
          "text": [
            "Training: 100%|██████████| 769/769 [00:01<00:00, 390.03it/s]\n"
          ]
        },
        {
          "output_type": "stream",
          "name": "stdout",
          "text": [
            "Epoch [8/10], Loss: 1.2889\n"
          ]
        },
        {
          "output_type": "stream",
          "name": "stderr",
          "text": [
            "Training: 100%|██████████| 769/769 [00:01<00:00, 404.90it/s]\n"
          ]
        },
        {
          "output_type": "stream",
          "name": "stdout",
          "text": [
            "Epoch [9/10], Loss: 1.2590\n"
          ]
        },
        {
          "output_type": "stream",
          "name": "stderr",
          "text": [
            "Training: 100%|██████████| 769/769 [00:01<00:00, 403.43it/s]\n"
          ]
        },
        {
          "output_type": "stream",
          "name": "stdout",
          "text": [
            "Epoch [10/10], Loss: 1.2264\n",
            "Training complete.\n"
          ]
        },
        {
          "output_type": "stream",
          "name": "stderr",
          "text": [
            "Evaluating: 100%|██████████| 168/168 [00:00<00:00, 683.14it/s]"
          ]
        },
        {
          "output_type": "stream",
          "name": "stdout",
          "text": [
            "Validation Loss: 1.3965, Accuracy: 56.26%\n"
          ]
        },
        {
          "output_type": "stream",
          "name": "stderr",
          "text": [
            "\n"
          ]
        }
      ]
    },
    {
      "cell_type": "code",
      "source": [
        "test_accuracy, test_preds, test_labels = evaluate_model(vision_model, dataloader_test, loss_fn)\n",
        "print(f\"Test Accuracy: {test_accuracy:.2f}%\")"
      ],
      "metadata": {
        "colab": {
          "base_uri": "https://localhost:8080/"
        },
        "id": "0n2CzWcjfvrP",
        "outputId": "01ac3e77-0e63-4107-8701-5b30503a86c2"
      },
      "execution_count": null,
      "outputs": [
        {
          "output_type": "stream",
          "name": "stderr",
          "text": [
            "Evaluating: 100%|██████████| 166/166 [00:00<00:00, 848.26it/s]\n"
          ]
        },
        {
          "output_type": "stream",
          "name": "stdout",
          "text": [
            "Validation Loss: 1.3490, Accuracy: 57.79%\n",
            "Test Accuracy: 57.79%\n"
          ]
        }
      ]
    },
    {
      "cell_type": "code",
      "source": [
        "accuracy = accuracy_score(test_labels, test_preds)\n",
        "precision = precision_score(test_labels, test_preds, average='weighted')\n",
        "recall = recall_score(test_labels, test_preds, average='weighted')\n",
        "f1 = f1_score(test_labels, test_preds, average='weighted')\n",
        "print(f\"Accuracy: {accuracy:.2f}\")\n",
        "print(f\"Precision: {precision:.2f}\")\n",
        "print(f\"Recall: {recall:.2f}\")\n",
        "print(f\"F1 Score: {f1:.2f}\")"
      ],
      "metadata": {
        "colab": {
          "base_uri": "https://localhost:8080/"
        },
        "id": "eEHZ8MkmfxDl",
        "outputId": "6a61439d-7e1c-4b3f-a8a6-8bf62fc14c73"
      },
      "execution_count": null,
      "outputs": [
        {
          "output_type": "stream",
          "name": "stdout",
          "text": [
            "Accuracy: 0.58\n",
            "Precision: 0.54\n",
            "Recall: 0.58\n",
            "F1 Score: 0.55\n"
          ]
        },
        {
          "output_type": "stream",
          "name": "stderr",
          "text": [
            "/usr/local/lib/python3.10/dist-packages/sklearn/metrics/_classification.py:1565: UndefinedMetricWarning: Precision is ill-defined and being set to 0.0 in labels with no predicted samples. Use `zero_division` parameter to control this behavior.\n",
            "  _warn_prf(average, modifier, f\"{metric.capitalize()} is\", len(result))\n"
          ]
        }
      ]
    },
    {
      "cell_type": "code",
      "source": [
        "cm = confusion_matrix(test_labels, test_preds)\n",
        "print(\"Confusion Matrix:\")\n",
        "print(cm)\n",
        "\n",
        "print(\"\\nClassification Report:\")\n",
        "print(classification_report(test_labels, test_preds, target_names=label_encoder.classes_))"
      ],
      "metadata": {
        "colab": {
          "base_uri": "https://localhost:8080/"
        },
        "id": "jvjOZjo8fzeg",
        "outputId": "0797c373-c1f9-4eab-898f-cfe1d349eb41"
      },
      "execution_count": null,
      "outputs": [
        {
          "output_type": "stream",
          "name": "stdout",
          "text": [
            "Confusion Matrix:\n",
            "[[  1   0   0   0   0   0   0   0   7   0   0   0   0   0   0   0   4]\n",
            " [  0  45   2   1   0   3   0   0  23   2   2   5   0   0  12   0   5]\n",
            " [  0   0 235   0   0   0   0   0   9   6   1   1   3   0  14   0  11]\n",
            " [  0   1   1  26   0   1   0   0   2   1   0   2   0   0  11   1  14]\n",
            " [  0   0   3   0   0   0   0   0   4   0   1   0   2   0   3   0   0]\n",
            " [  0   1   2   1   0  33   0   0   3   0   2   1   0   0  71   0   6]\n",
            " [  0   0   3   1   0   3   0   0   1   0   1   0   0   0   4   0   2]\n",
            " [  0   0   1   0   0   0   0   0   4   0   0   0   1   0   0   0   1]\n",
            " [  1  16  20   2   0   4   0   0 230   4   2   8  11   0  27   6  52]\n",
            " [  0   2   9   0   0   1   0   0  16  27   2   2   6   0  12   1  19]\n",
            " [  0   1   2   1   0   4   0   0  10   1  17   1   1   0  13   0  13]\n",
            " [  0   4   2   5   0   0   0   0  19   2   0  52   3   0  16   2  15]\n",
            " [  0   1  20   2   0   1   0   0  33  12   2  17  18   0  23   0  60]\n",
            " [  0   0   2   0   0   0   0   0   4   3   0   1   2   0   3   0   2]\n",
            " [  0   3  14   5   0  31   0   0  22   5   4   4   6   0 578   0  18]\n",
            " [  0   1   0   0   0   0   0   0   3   1   0   0   0   0   1  40   4]\n",
            " [  1   5  21   8   0   8   0   0  41   3  13  14  16   0  68   8 233]]\n",
            "\n",
            "Classification Report:\n",
            "                     precision    recall  f1-score   support\n",
            "\n",
            "       Bất động sản       0.33      0.08      0.13        12\n",
            "          Công nghệ       0.56      0.45      0.50       100\n",
            "          Công đoàn       0.70      0.84      0.76       280\n",
            "            Du lịch       0.50      0.43      0.46        60\n",
            "           Giáo dục       0.00      0.00      0.00        13\n",
            "Giải trí - Thư giãn       0.37      0.28      0.32       120\n",
            "           Giới trẻ       0.00      0.00      0.00        15\n",
            "           Khoa học       0.00      0.00      0.00         7\n",
            "            Kinh tế       0.53      0.60      0.57       383\n",
            "          Pháp luật       0.40      0.28      0.33        97\n",
            "Sức khoẻ - Tình yêu       0.36      0.27      0.31        64\n",
            "           Thế giới       0.48      0.43      0.46       120\n",
            "            Thời sự       0.26      0.10      0.14       189\n",
            "           Việc làm       0.00      0.00      0.00        17\n",
            " Văn hoá - Thế thao       0.68      0.84      0.75       690\n",
            "                 Xe       0.69      0.80      0.74        50\n",
            "  Đời sống - Xã hội       0.51      0.53      0.52       439\n",
            "\n",
            "           accuracy                           0.58      2656\n",
            "          macro avg       0.38      0.35      0.35      2656\n",
            "       weighted avg       0.54      0.58      0.55      2656\n",
            "\n"
          ]
        },
        {
          "output_type": "stream",
          "name": "stderr",
          "text": [
            "/usr/local/lib/python3.10/dist-packages/sklearn/metrics/_classification.py:1565: UndefinedMetricWarning: Precision is ill-defined and being set to 0.0 in labels with no predicted samples. Use `zero_division` parameter to control this behavior.\n",
            "  _warn_prf(average, modifier, f\"{metric.capitalize()} is\", len(result))\n",
            "/usr/local/lib/python3.10/dist-packages/sklearn/metrics/_classification.py:1565: UndefinedMetricWarning: Precision is ill-defined and being set to 0.0 in labels with no predicted samples. Use `zero_division` parameter to control this behavior.\n",
            "  _warn_prf(average, modifier, f\"{metric.capitalize()} is\", len(result))\n",
            "/usr/local/lib/python3.10/dist-packages/sklearn/metrics/_classification.py:1565: UndefinedMetricWarning: Precision is ill-defined and being set to 0.0 in labels with no predicted samples. Use `zero_division` parameter to control this behavior.\n",
            "  _warn_prf(average, modifier, f\"{metric.capitalize()} is\", len(result))\n"
          ]
        }
      ]
    },
    {
      "cell_type": "markdown",
      "source": [
        "## Multimodal Classification Training and Evaluating"
      ],
      "metadata": {
        "id": "gAsGZhK0ig21"
      }
    },
    {
      "cell_type": "markdown",
      "source": [
        "### Dataloader for multimodal model"
      ],
      "metadata": {
        "id": "HZKH4mwnR6IA"
      }
    },
    {
      "cell_type": "code",
      "source": [
        "class NewspaperDataset_Multimodal:\n",
        "    def __init__(self, text_embeddings, image_embeddings, labels):\n",
        "        \"\"\"\n",
        "        Custom dataset for newspaper classification\n",
        "\n",
        "        Args:\n",
        "            text_embeddings: PhoBERT embeddings (num_samples, text_dim)\n",
        "            image_embeddings: ViT embeddings (num_samples, image_dim)\n",
        "            labels: Classification labels (num_samples,)\n",
        "        \"\"\"\n",
        "        self.text_embeddings = text_embeddings\n",
        "        self.image_embeddings = image_embeddings\n",
        "        self.labels = labels\n",
        "\n",
        "    def __len__(self):\n",
        "        return len(self.labels)\n",
        "\n",
        "    def __getitem__(self, idx):\n",
        "        return {\n",
        "            'text_embedding': self.text_embeddings[idx],\n",
        "            'image_embedding': self.image_embeddings[idx],\n",
        "            'label': self.labels[idx]\n",
        "        }"
      ],
      "metadata": {
        "id": "zbff3r_EiSQ1"
      },
      "execution_count": null,
      "outputs": []
    },
    {
      "cell_type": "code",
      "source": [
        "dataset_train = NewspaperDataset_Multimodal(text_embedding_train, image_embedding_train, train_labels)\n",
        "dataset_dev = NewspaperDataset_Multimodal(text_embedding_dev, image_embedding_dev, dev_labels)\n",
        "dataset_test = NewspaperDataset_Multimodal(text_embedding_test, image_embedding_test, test_labels)\n",
        "\n",
        "dataloader_train = DataLoader(dataset_train, batch_size=16, shuffle=True)\n",
        "dataloader_dev = DataLoader(dataset_dev, batch_size=16, shuffle=True)\n",
        "dataloader_test = DataLoader(dataset_test, batch_size=16, shuffle=True)"
      ],
      "metadata": {
        "id": "Pyi6qqlBiScw"
      },
      "execution_count": null,
      "outputs": []
    },
    {
      "cell_type": "code",
      "source": [
        "multimodal_model = MultimodalFusionModule(\n",
        "    text_dim=768,\n",
        "    image_dim=768,\n",
        "    hidden_dim=512,\n",
        "    num_classes=17,\n",
        "    dropout=0.3,\n",
        "    fusion_type=\"concat\"\n",
        ").to(device)\n",
        "loss_fn = nn.CrossEntropyLoss()\n",
        "optimizer = torch.optim.Adam(multimodal_model.parameters(), lr=1e-4)"
      ],
      "metadata": {
        "id": "q04FwsETVgMH"
      },
      "execution_count": null,
      "outputs": []
    },
    {
      "cell_type": "markdown",
      "source": [
        "### Training"
      ],
      "metadata": {
        "id": "6_ifq37fYLW0"
      }
    },
    {
      "cell_type": "code",
      "source": [
        "multimodal_model.train()\n",
        "for epoch in range(10):\n",
        "  print(f'Epoch {epoch+1}')\n",
        "  running_loss = 0.0\n",
        "  for batch in tqdm(dataloader_train, desc='Training'):\n",
        "            # Move all batch elements to device\n",
        "            images_embedding = batch['image_embedding'].to(device)\n",
        "            text_embedding = batch['text_embedding'].to(device)\n",
        "            labels = batch['label'].to(device)\n",
        "\n",
        "            optimizer.zero_grad()\n",
        "            outputs = multimodal_model(text_embedding, images_embedding)\n",
        "            loss = loss_fn(outputs, labels)\n",
        "            loss.backward()\n",
        "            optimizer.step()\n",
        "\n",
        "            running_loss += loss.item()\n",
        "\n",
        "  print(f\"Epoch [{epoch+1}/{10}], Loss: {running_loss/len(dataloader_train):.4f}\")\n",
        "print(\"Training complete.\")"
      ],
      "metadata": {
        "colab": {
          "base_uri": "https://localhost:8080/"
        },
        "id": "-jFbJK8piSka",
        "outputId": "a62e7c6f-961f-41de-d5bf-a17e8d52937f"
      },
      "execution_count": null,
      "outputs": [
        {
          "output_type": "stream",
          "name": "stdout",
          "text": [
            "Epoch 1\n"
          ]
        },
        {
          "output_type": "stream",
          "name": "stderr",
          "text": [
            "Training: 100%|██████████| 769/769 [00:03<00:00, 236.35it/s]\n"
          ]
        },
        {
          "output_type": "stream",
          "name": "stdout",
          "text": [
            "Epoch [1/10], Loss: 1.5109\n",
            "Epoch 2\n"
          ]
        },
        {
          "output_type": "stream",
          "name": "stderr",
          "text": [
            "Training: 100%|██████████| 769/769 [00:01<00:00, 393.49it/s]\n"
          ]
        },
        {
          "output_type": "stream",
          "name": "stdout",
          "text": [
            "Epoch [2/10], Loss: 0.9366\n",
            "Epoch 3\n"
          ]
        },
        {
          "output_type": "stream",
          "name": "stderr",
          "text": [
            "Training: 100%|██████████| 769/769 [00:02<00:00, 381.56it/s]\n"
          ]
        },
        {
          "output_type": "stream",
          "name": "stdout",
          "text": [
            "Epoch [3/10], Loss: 0.7784\n",
            "Epoch 4\n"
          ]
        },
        {
          "output_type": "stream",
          "name": "stderr",
          "text": [
            "Training: 100%|██████████| 769/769 [00:02<00:00, 330.18it/s]\n"
          ]
        },
        {
          "output_type": "stream",
          "name": "stdout",
          "text": [
            "Epoch [4/10], Loss: 0.6811\n",
            "Epoch 5\n"
          ]
        },
        {
          "output_type": "stream",
          "name": "stderr",
          "text": [
            "Training: 100%|██████████| 769/769 [00:02<00:00, 353.91it/s]\n"
          ]
        },
        {
          "output_type": "stream",
          "name": "stdout",
          "text": [
            "Epoch [5/10], Loss: 0.6083\n",
            "Epoch 6\n"
          ]
        },
        {
          "output_type": "stream",
          "name": "stderr",
          "text": [
            "Training: 100%|██████████| 769/769 [00:01<00:00, 392.00it/s]\n"
          ]
        },
        {
          "output_type": "stream",
          "name": "stdout",
          "text": [
            "Epoch [6/10], Loss: 0.5634\n",
            "Epoch 7\n"
          ]
        },
        {
          "output_type": "stream",
          "name": "stderr",
          "text": [
            "Training: 100%|██████████| 769/769 [00:02<00:00, 315.47it/s]\n"
          ]
        },
        {
          "output_type": "stream",
          "name": "stdout",
          "text": [
            "Epoch [7/10], Loss: 0.5189\n",
            "Epoch 8\n"
          ]
        },
        {
          "output_type": "stream",
          "name": "stderr",
          "text": [
            "Training: 100%|██████████| 769/769 [00:01<00:00, 398.92it/s]\n"
          ]
        },
        {
          "output_type": "stream",
          "name": "stdout",
          "text": [
            "Epoch [8/10], Loss: 0.4786\n",
            "Epoch 9\n"
          ]
        },
        {
          "output_type": "stream",
          "name": "stderr",
          "text": [
            "Training: 100%|██████████| 769/769 [00:01<00:00, 395.96it/s]\n"
          ]
        },
        {
          "output_type": "stream",
          "name": "stdout",
          "text": [
            "Epoch [9/10], Loss: 0.4390\n",
            "Epoch 10\n"
          ]
        },
        {
          "output_type": "stream",
          "name": "stderr",
          "text": [
            "Training: 100%|██████████| 769/769 [00:02<00:00, 336.42it/s]"
          ]
        },
        {
          "output_type": "stream",
          "name": "stdout",
          "text": [
            "Epoch [10/10], Loss: 0.4121\n",
            "Training complete.\n"
          ]
        },
        {
          "output_type": "stream",
          "name": "stderr",
          "text": [
            "\n"
          ]
        }
      ]
    },
    {
      "cell_type": "markdown",
      "source": [
        "### Evaluating"
      ],
      "metadata": {
        "id": "iqYhYNb5YNuQ"
      }
    },
    {
      "cell_type": "code",
      "source": [
        "multimodal_model.eval()\n",
        "correct = 0\n",
        "total = 0\n",
        "val_loss = 0.0\n",
        "all_preds = []\n",
        "all_labels = []\n",
        "\n",
        "with torch.no_grad():\n",
        "    for batch in tqdm(dataloader_dev, desc='Evaluating'):\n",
        "        images_embedding = batch['image_embedding'].to(device)\n",
        "        text_embedding = batch['text_embedding'].to(device)\n",
        "        labels = batch['label'].to(device)\n",
        "\n",
        "        outputs = multimodal_model(text_embedding, images_embedding)\n",
        "        loss = loss_fn(outputs, labels)\n",
        "\n",
        "        val_loss += loss.item()\n",
        "        _, predicted = torch.max(outputs, 1)\n",
        "\n",
        "        total += labels.size(0)\n",
        "        correct += (predicted == labels).sum().item()\n",
        "\n",
        "        all_preds.extend(predicted.cpu().numpy())\n",
        "        all_labels.extend(labels.cpu().numpy())\n",
        "\n",
        "accuracy = 100 * correct / total\n",
        "print(f\"Validation Loss: {val_loss/len(dataloader_dev):.4f}, Accuracy: {accuracy:.2f}%\")"
      ],
      "metadata": {
        "colab": {
          "base_uri": "https://localhost:8080/"
        },
        "id": "1Wy5LC4oYNJH",
        "outputId": "89605560-59f3-4fd4-a1eb-672103db24e1"
      },
      "execution_count": null,
      "outputs": [
        {
          "output_type": "stream",
          "name": "stderr",
          "text": [
            "Evaluating: 100%|██████████| 168/168 [00:00<00:00, 791.65it/s]"
          ]
        },
        {
          "output_type": "stream",
          "name": "stdout",
          "text": [
            "Validation Loss: 0.7232, Accuracy: 77.16%\n"
          ]
        },
        {
          "output_type": "stream",
          "name": "stderr",
          "text": [
            "\n"
          ]
        }
      ]
    },
    {
      "cell_type": "markdown",
      "source": [
        "### Testing"
      ],
      "metadata": {
        "id": "V_skc8k9YPFj"
      }
    },
    {
      "cell_type": "code",
      "source": [
        "multimodal_model.eval()\n",
        "correct = 0\n",
        "total = 0\n",
        "test_loss = 0.0\n",
        "all_preds_test = []\n",
        "all_labels_test = []\n",
        "\n",
        "with torch.no_grad():\n",
        "    for batch in tqdm(dataloader_test, desc='Evaluating'):\n",
        "        images_embedding = batch['image_embedding'].to(device)\n",
        "        text_embedding = batch['text_embedding'].to(device)\n",
        "        labels = batch['label'].to(device)\n",
        "\n",
        "        outputs = multimodal_model(text_embedding, images_embedding)\n",
        "        loss = loss_fn(outputs, labels)\n",
        "\n",
        "        test_loss += loss.item()\n",
        "        _, predicted = torch.max(outputs, 1)\n",
        "\n",
        "        total += labels.size(0)\n",
        "        correct += (predicted == labels).sum().item()\n",
        "\n",
        "        all_preds_test.extend(predicted.cpu().numpy())\n",
        "        all_labels_test.extend(labels.cpu().numpy())\n",
        "\n",
        "accuracy = 100 * correct / total\n",
        "print(f\"Test Loss: {test_loss/len(dataloader_test):.4f}, Accuracy: {accuracy:.2f}%\")"
      ],
      "metadata": {
        "colab": {
          "base_uri": "https://localhost:8080/"
        },
        "id": "G8lo3XYwYNRO",
        "outputId": "c4b8cb3d-adf0-4637-e156-b6bef88cadbd"
      },
      "execution_count": null,
      "outputs": [
        {
          "output_type": "stream",
          "name": "stderr",
          "text": [
            "Evaluating: 100%|██████████| 166/166 [00:00<00:00, 1070.05it/s]"
          ]
        },
        {
          "output_type": "stream",
          "name": "stdout",
          "text": [
            "Test Loss: 0.6867, Accuracy: 77.79%\n"
          ]
        },
        {
          "output_type": "stream",
          "name": "stderr",
          "text": [
            "\n"
          ]
        }
      ]
    },
    {
      "cell_type": "code",
      "source": [
        "accuracy = accuracy_score(all_labels_test, all_preds_test)\n",
        "precision = precision_score(all_labels_test, all_preds_test, average='weighted')\n",
        "recall = recall_score(all_labels_test, all_preds_test, average='weighted')\n",
        "f1 = f1_score(all_labels_test, all_preds_test, average='weighted')\n",
        "print(f\"Accuracy: {accuracy:.2f}\")\n",
        "print(f\"Precision: {precision:.2f}\")\n",
        "print(f\"Recall: {recall:.2f}\")\n",
        "print(f\"F1 Score: {f1:.2f}\")"
      ],
      "metadata": {
        "colab": {
          "base_uri": "https://localhost:8080/"
        },
        "id": "i3aPluhKiSsH",
        "outputId": "be4af326-3f92-4477-b1e2-653c98d4de4e"
      },
      "execution_count": null,
      "outputs": [
        {
          "output_type": "stream",
          "name": "stdout",
          "text": [
            "Accuracy: 0.78\n",
            "Precision: 0.78\n",
            "Recall: 0.78\n",
            "F1 Score: 0.77\n"
          ]
        }
      ]
    },
    {
      "cell_type": "code",
      "source": [
        "cm = confusion_matrix(all_labels_test, all_preds_test)\n",
        "print(\"Confusion Matrix:\")\n",
        "print(cm)"
      ],
      "metadata": {
        "id": "iO6X3wq4iSzb",
        "colab": {
          "base_uri": "https://localhost:8080/"
        },
        "outputId": "9012db89-b83e-45a9-bac2-5875194cdbab"
      },
      "execution_count": null,
      "outputs": [
        {
          "output_type": "stream",
          "name": "stdout",
          "text": [
            "Confusion Matrix:\n",
            "[[  3   0   0   0   0   0   0   0   2   0   0   2   2   0   0   0   3]\n",
            " [  0  80   0   0   0   0   0   0   6   1   0   6   1   0   2   1   3]\n",
            " [  0   0 271   0   0   0   1   0   3   0   0   0   1   3   0   0   1]\n",
            " [  1   0   0  45   0   1   0   0   3   0   0   1   0   0   5   0   4]\n",
            " [  0   0   1   0   2   0   2   1   0   0   1   0   4   1   0   0   1]\n",
            " [  0   0   0   1   0  92   0   0   2   0   2   0   0   0  19   0   4]\n",
            " [  0   0   1   1   0   2   6   0   1   0   1   0   0   0   1   0   2]\n",
            " [  0   2   0   0   0   0   0   1   1   0   1   0   2   0   0   0   0]\n",
            " [  4  18   6   3   0   0   2   0 279   3   0  13  14   2   8   9  22]\n",
            " [  0   0   1   0   1   0   0   0   0  76   1   1   5   1   0   1  10]\n",
            " [  0   0   0   0   0   1   1   0   0   0  48   1   1   0   1   0  11]\n",
            " [  0   4   0   3   0   0   0   0   6   1   0  95   7   0   1   1   2]\n",
            " [  0   1   2   4   5   1   5   0  13   7   2   8  83   4   7   1  46]\n",
            " [  0   0   2   0   1   0   0   0   1   1   0   0   3   3   1   0   5]\n",
            " [  0   2   1   4   0  30   2   0   0   0   1   1   1   0 641   0   7]\n",
            " [  0   0   1   0   0   0   0   0   1   0   0   0   1   0   1  44   2]\n",
            " [  5   1   2  13   0   7   7   0  16   4  16   7  21   1  37   5 297]]\n"
          ]
        }
      ]
    },
    {
      "cell_type": "code",
      "source": [
        "print(\"\\nClassification Report:\")\n",
        "print(classification_report(all_labels_test, all_preds_test, target_names=label_encoder.classes_))"
      ],
      "metadata": {
        "id": "t7VsJHiyiS7Q",
        "colab": {
          "base_uri": "https://localhost:8080/"
        },
        "outputId": "f6a518e7-8d53-4cb2-d55b-a34ce98bf20d"
      },
      "execution_count": null,
      "outputs": [
        {
          "output_type": "stream",
          "name": "stdout",
          "text": [
            "\n",
            "Classification Report:\n",
            "                     precision    recall  f1-score   support\n",
            "\n",
            "       Bất động sản       0.23      0.25      0.24        12\n",
            "          Công nghệ       0.74      0.80      0.77       100\n",
            "          Công đoàn       0.94      0.97      0.95       280\n",
            "            Du lịch       0.61      0.75      0.67        60\n",
            "           Giáo dục       0.22      0.15      0.18        13\n",
            "Giải trí - Thư giãn       0.69      0.77      0.72       120\n",
            "           Giới trẻ       0.23      0.40      0.29        15\n",
            "           Khoa học       0.50      0.14      0.22         7\n",
            "            Kinh tế       0.84      0.73      0.78       383\n",
            "          Pháp luật       0.82      0.78      0.80        97\n",
            "Sức khoẻ - Tình yêu       0.66      0.75      0.70        64\n",
            "           Thế giới       0.70      0.79      0.75       120\n",
            "            Thời sự       0.57      0.44      0.50       189\n",
            "           Việc làm       0.20      0.18      0.19        17\n",
            " Văn hoá - Thế thao       0.89      0.93      0.91       690\n",
            "                 Xe       0.71      0.88      0.79        50\n",
            "  Đời sống - Xã hội       0.71      0.68      0.69       439\n",
            "\n",
            "           accuracy                           0.78      2656\n",
            "          macro avg       0.60      0.61      0.60      2656\n",
            "       weighted avg       0.78      0.78      0.77      2656\n",
            "\n"
          ]
        }
      ]
    }
  ]
}